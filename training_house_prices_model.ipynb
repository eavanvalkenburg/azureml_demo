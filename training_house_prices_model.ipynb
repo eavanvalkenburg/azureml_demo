{
 "cells": [
  {
   "cell_type": "markdown",
   "metadata": {},
   "source": [
    "![Impressions](https://PixelServer20190423114238.azurewebsites.net/api/impressions/MachineLearningNotebooks/how-to-use-azureml/automated-machine-learning/regression/auto-ml-regression.png)"
   ]
  },
  {
   "cell_type": "code",
   "execution_count": null,
   "metadata": {},
   "outputs": [],
   "source": [
    "!git pull"
   ]
  },
  {
   "cell_type": "code",
   "execution_count": 1,
   "metadata": {},
   "outputs": [
    {
     "name": "stdout",
     "output_type": "stream",
     "text": [
      "1.0.57\n"
     ]
    }
   ],
   "source": [
    "import logging\n",
    "\n",
    "from matplotlib import pyplot as plt\n",
    "import numpy as np\n",
    "import pandas as pd\n",
    "\n",
    "import azureml.core\n",
    "from azureml.core.experiment import Experiment\n",
    "from azureml.core.workspace import Workspace\n",
    "from azureml.train.automl import AutoMLConfig\n",
    "from azureml.core.datastore import Datastore\n",
    "from azureml.core.dataset import Dataset\n",
    "from azureml.data.data_reference import DataReference\n",
    "from azureml.core.compute import AmlCompute\n",
    "from azureml.core.compute import ComputeTarget\n",
    "from azureml.core.runconfig import RunConfiguration\n",
    "from azureml.core.conda_dependencies import CondaDependencies\n",
    "from azureml.core.model import Model\n",
    "from sklearn.metrics import mean_squared_error, r2_score\n",
    "\n",
    "print(azureml.core.VERSION) #should be 1.0.57 or greater"
   ]
  },
  {
   "cell_type": "code",
   "execution_count": 2,
   "metadata": {},
   "outputs": [],
   "source": [
    "ws = Workspace.from_config()\n",
    "experiment_name = 'house_prices_regression'\n",
    "project_folder = './sample_projects/house_prices_regression'\n",
    "experiment = Experiment(ws, experiment_name)"
   ]
  },
  {
   "cell_type": "markdown",
   "metadata": {},
   "source": [
    "## Data\n",
    "This uses the AzureML datastore and dataset api's, as well as data manipulation, with keep_ and drop_ columns, and random_split."
   ]
  },
  {
   "cell_type": "code",
   "execution_count": 10,
   "metadata": {},
   "outputs": [
    {
     "ename": "NameError",
     "evalue": "name 'TabularDataset' is not defined",
     "output_type": "error",
     "traceback": [
      "\u001b[0;31m---------------------------------------------------------------------------\u001b[0m",
      "\u001b[0;31mNameError\u001b[0m                                 Traceback (most recent call last)",
      "\u001b[0;32m<ipython-input-10-fb03fe4fdee1>\u001b[0m in \u001b[0;36m<module>\u001b[0;34m\u001b[0m\n\u001b[1;32m      3\u001b[0m \u001b[0mdatastore\u001b[0m \u001b[0;34m=\u001b[0m \u001b[0mDatastore\u001b[0m\u001b[0;34m.\u001b[0m\u001b[0mget\u001b[0m\u001b[0;34m(\u001b[0m\u001b[0mws\u001b[0m\u001b[0;34m,\u001b[0m \u001b[0mdatastore_name\u001b[0m\u001b[0;34m)\u001b[0m\u001b[0;34m\u001b[0m\u001b[0;34m\u001b[0m\u001b[0m\n\u001b[1;32m      4\u001b[0m \u001b[0mdata_reference\u001b[0m \u001b[0;34m=\u001b[0m \u001b[0mDataReference\u001b[0m\u001b[0;34m(\u001b[0m\u001b[0mdatastore\u001b[0m\u001b[0;34m,\u001b[0m \u001b[0mdata_reference_name\u001b[0m\u001b[0;34m=\u001b[0m\u001b[0;34m\"boston_data\"\u001b[0m\u001b[0;34m,\u001b[0m \u001b[0mpath_on_datastore\u001b[0m\u001b[0;34m=\u001b[0m\u001b[0mdataset_path\u001b[0m\u001b[0;34m)\u001b[0m\u001b[0;34m\u001b[0m\u001b[0;34m\u001b[0m\u001b[0m\n\u001b[0;32m----> 5\u001b[0;31m \u001b[0mboston_ds\u001b[0m \u001b[0;34m=\u001b[0m \u001b[0mTabularDataset\u001b[0m\u001b[0;34m(\u001b[0m\u001b[0mDataset\u001b[0m\u001b[0;34m.\u001b[0m\u001b[0mget\u001b[0m\u001b[0;34m(\u001b[0m\u001b[0mws\u001b[0m\u001b[0;34m,\u001b[0m \u001b[0mname\u001b[0m\u001b[0;34m=\u001b[0m\u001b[0;34m'boston_housing_data'\u001b[0m\u001b[0;34m)\u001b[0m\u001b[0;34m)\u001b[0m\u001b[0;34m\u001b[0m\u001b[0;34m\u001b[0m\u001b[0m\n\u001b[0m\u001b[1;32m      6\u001b[0m \u001b[0mboston_ds_2\u001b[0m \u001b[0;34m=\u001b[0m\u001b[0mDataset\u001b[0m\u001b[0;34m.\u001b[0m\u001b[0mTabular\u001b[0m\u001b[0;34m.\u001b[0m\u001b[0mfrom_delimited_files\u001b[0m\u001b[0;34m(\u001b[0m\u001b[0mdata_reference\u001b[0m\u001b[0;34m)\u001b[0m\u001b[0;34m\u001b[0m\u001b[0;34m\u001b[0m\u001b[0m\n\u001b[1;32m      7\u001b[0m \u001b[0mprint\u001b[0m\u001b[0;34m(\u001b[0m\u001b[0mtype\u001b[0m\u001b[0;34m(\u001b[0m\u001b[0mboston_ds\u001b[0m\u001b[0;34m)\u001b[0m\u001b[0;34m)\u001b[0m\u001b[0;34m\u001b[0m\u001b[0;34m\u001b[0m\u001b[0m\n",
      "\u001b[0;31mNameError\u001b[0m: name 'TabularDataset' is not defined"
     ]
    }
   ],
   "source": [
    "datastore_name = 'edvanstorage__azureml'\n",
    "dataset_path = 'boston_houses/boston_data.csv'\n",
    "datastore = Datastore.get(ws, datastore_name)\n",
    "data_reference = DataReference(datastore, data_reference_name=\"boston_data\", path_on_datastore=dataset_path)\n",
    "boston_ds = Dataset.get(ws, name='boston_housing_data')\n",
    "boston_ds_2 = Dataset.Tabular.from_delimited_files(data_reference)\n",
    "print(type(boston_ds))\n",
    "print(type(boston_ds_2))\n",
    "\n",
    "# boston_ds = boston_ds.drop_columns('Column1')\n",
    "# boston_ds.to_pandas_dataframe().head(5)"
   ]
  },
  {
   "cell_type": "code",
   "execution_count": null,
   "metadata": {},
   "outputs": [],
   "source": [
    "b_train, b_test = boston_ds.random_split(0.2, seed=84)\n",
    "X_train = b_train.drop_columns('Price')\n",
    "y_train = b_train.keep_columns('Price')\n",
    "X_test = b_test.drop_columns('Price')\n",
    "y_test = b_test.keep_columns('Price')"
   ]
  },
  {
   "cell_type": "markdown",
   "metadata": {},
   "source": [
    "## Remote compute\n",
    "Setup the environments for remote compute, we might not need it..."
   ]
  },
  {
   "cell_type": "code",
   "execution_count": null,
   "metadata": {},
   "outputs": [],
   "source": [
    "compute_target = ws.compute_targets['cpucluster']\n",
    "run_config = RunConfiguration(framework=\"python\")\n",
    "run_config.target = compute_target\n",
    "run_config.environment.docker.enabled = True\n",
    "run_config.environment.docker.base_image = azureml.core.runconfig.DEFAULT_CPU_IMAGE\n",
    "\n",
    "dependencies = CondaDependencies.create(\n",
    "    pip_packages=[\"scikit-learn\", \"scipy\", \"numpy\"])\n",
    "run_config.environment.python.conda_dependencies = dependencies"
   ]
  },
  {
   "cell_type": "markdown",
   "metadata": {},
   "source": [
    "## Train\n",
    "\n",
    "Instantiate an `AutoMLConfig` object to specify the settings for both local and remote runs and data used to run the experiment."
   ]
  },
  {
   "cell_type": "code",
   "execution_count": null,
   "metadata": {},
   "outputs": [],
   "source": [
    "aml_config = {\"task\": 'regression',\n",
    "         \"iteration_timeout_minutes\": 10,\n",
    "         \"primary_metric\": 'normalized_root_mean_squared_error',\n",
    "         \"debug_log\": 'automl.log',\n",
    "         \"verbosity\": logging.INFO,\n",
    "         \"enable_early_stopping\": True,\n",
    "         \"X\": X_train, \n",
    "         \"y\": y_train,\n",
    "         \"path\": project_folder}\n",
    "\n",
    "local_run = True\n",
    "if local_run:\n",
    "    numb_run_config = {\n",
    "        'iterations': 10,\n",
    "        'n_cross_validations': 5\n",
    "    }\n",
    "else:\n",
    "    numb_run_config = {\n",
    "        'iterations': 250,\n",
    "        'n_cross_validations': 10\n",
    "    }    \n",
    "    remote_config = {\n",
    "        'compute_target': compute_target,\n",
    "        'run_configuration': run_config,\n",
    "        'max_cores_per_iteration': 2,\n",
    "        'max_concurrent_iterations': 10,\n",
    "    }\n",
    "    aml_config.update(remote_config)\n",
    "aml_config.update(numb_run_config)\n",
    "    \n",
    "automl_config = AutoMLConfig(**aml_config)"
   ]
  },
  {
   "cell_type": "code",
   "execution_count": null,
   "metadata": {},
   "outputs": [],
   "source": [
    "show_run = False\n",
    "if 'compute_target' in aml_config:\n",
    "    print(f\"Running {aml_config['iterations']} iterations on remote compute (with {compute_target.vm_size} VM's), with {aml_config['n_cross_validations']}-fold cross validation.\")\n",
    "    show_run = False\n",
    "else:\n",
    "    print(f\"Running {aml_config['iterations']} iterations on local compute, with {aml_config['n_cross_validations']}-fold cross validation.\")\n",
    "if not show_run:\n",
    "    print(\"Not showing output here. Please run the Widget cell below.\")\n",
    "else:\n",
    "    print(\"**********************************************************************************************\")\n",
    "run = experiment.submit(automl_config, show_output = show_run)"
   ]
  },
  {
   "cell_type": "code",
   "execution_count": null,
   "metadata": {},
   "outputs": [],
   "source": [
    "from azureml.widgets import RunDetails\n",
    "RunDetails(run).show() "
   ]
  },
  {
   "cell_type": "code",
   "execution_count": 77,
   "metadata": {},
   "outputs": [
    {
     "data": {
      "text/html": [
       "<table style=\"width:100%\"><tr><th>Experiment</th><th>Id</th><th>Type</th><th>Status</th><th>Details Page</th><th>Docs Page</th></tr><tr><td>house_prices_regression</td><td>AutoML_ee92b223-2212-4e27-b8e8-85e0ec1ab92e</td><td>automl</td><td>Completed</td><td><a href=\"https://mlworkspace.azure.ai/portal/subscriptions/8f962503-0c00-4280-a157-8c20b3a9d990/resourceGroups/azureml/providers/Microsoft.MachineLearningServices/workspaces/azureml_kickstarter/experiments/house_prices_regression/runs/AutoML_ee92b223-2212-4e27-b8e8-85e0ec1ab92e\" target=\"_blank\" rel=\"noopener\">Link to Azure Portal</a></td><td><a href=\"https://docs.microsoft.com/en-us/python/api/overview/azure/ml/intro?view=azure-ml-py\" target=\"_blank\" rel=\"noopener\">Link to Documentation</a></td></tr></table>"
      ],
      "text/plain": [
       "Run(Experiment: house_prices_regression,\n",
       "Id: AutoML_ee92b223-2212-4e27-b8e8-85e0ec1ab92e,\n",
       "Type: automl,\n",
       "Status: Completed)"
      ]
     },
     "execution_count": 77,
     "metadata": {},
     "output_type": "execute_result"
    }
   ],
   "source": [
    "from azureml.train.automl.run import AutoMLRun\n",
    "if not run:\n",
    "    run = AutoMLRun(experiment, run_id=\"AutoML_09a5a593-af18-405d-b0e7-6c5c2b2e3578\")\n",
    "run"
   ]
  },
  {
   "cell_type": "markdown",
   "metadata": {},
   "source": [
    "\n",
    "#### Retrieve All Child Runs\n",
    "You can also use SDK methods to fetch all the child runs and see individual metrics that we log."
   ]
  },
  {
   "cell_type": "code",
   "execution_count": 78,
   "metadata": {},
   "outputs": [
    {
     "data": {
      "text/html": [
       "<div>\n",
       "<style scoped>\n",
       "    .dataframe tbody tr th:only-of-type {\n",
       "        vertical-align: middle;\n",
       "    }\n",
       "\n",
       "    .dataframe tbody tr th {\n",
       "        vertical-align: top;\n",
       "    }\n",
       "\n",
       "    .dataframe thead th {\n",
       "        text-align: right;\n",
       "    }\n",
       "</style>\n",
       "<table border=\"1\" class=\"dataframe\">\n",
       "  <thead>\n",
       "    <tr style=\"text-align: right;\">\n",
       "      <th></th>\n",
       "      <th>0</th>\n",
       "      <th>1</th>\n",
       "      <th>2</th>\n",
       "      <th>3</th>\n",
       "      <th>4</th>\n",
       "      <th>5</th>\n",
       "      <th>6</th>\n",
       "      <th>7</th>\n",
       "      <th>8</th>\n",
       "      <th>9</th>\n",
       "    </tr>\n",
       "  </thead>\n",
       "  <tbody>\n",
       "    <tr>\n",
       "      <th>explained_variance</th>\n",
       "      <td>0.70</td>\n",
       "      <td>0.71</td>\n",
       "      <td>0.76</td>\n",
       "      <td>0.79</td>\n",
       "      <td>0.80</td>\n",
       "      <td>0.64</td>\n",
       "      <td>0.68</td>\n",
       "      <td>0.75</td>\n",
       "      <td>0.83</td>\n",
       "      <td>0.80</td>\n",
       "    </tr>\n",
       "    <tr>\n",
       "      <th>mean_absolute_error</th>\n",
       "      <td>2.98</td>\n",
       "      <td>3.00</td>\n",
       "      <td>2.50</td>\n",
       "      <td>2.34</td>\n",
       "      <td>2.24</td>\n",
       "      <td>3.00</td>\n",
       "      <td>3.00</td>\n",
       "      <td>2.63</td>\n",
       "      <td>2.05</td>\n",
       "      <td>2.25</td>\n",
       "    </tr>\n",
       "    <tr>\n",
       "      <th>mean_absolute_percentage_error</th>\n",
       "      <td>14.71</td>\n",
       "      <td>14.90</td>\n",
       "      <td>13.30</td>\n",
       "      <td>12.41</td>\n",
       "      <td>12.38</td>\n",
       "      <td>16.27</td>\n",
       "      <td>14.60</td>\n",
       "      <td>13.61</td>\n",
       "      <td>10.50</td>\n",
       "      <td>11.52</td>\n",
       "    </tr>\n",
       "    <tr>\n",
       "      <th>median_absolute_error</th>\n",
       "      <td>2.32</td>\n",
       "      <td>2.40</td>\n",
       "      <td>1.86</td>\n",
       "      <td>1.86</td>\n",
       "      <td>1.68</td>\n",
       "      <td>2.26</td>\n",
       "      <td>1.83</td>\n",
       "      <td>2.21</td>\n",
       "      <td>1.64</td>\n",
       "      <td>1.80</td>\n",
       "    </tr>\n",
       "    <tr>\n",
       "      <th>normalized_mean_absolute_error</th>\n",
       "      <td>0.07</td>\n",
       "      <td>0.07</td>\n",
       "      <td>0.06</td>\n",
       "      <td>0.05</td>\n",
       "      <td>0.05</td>\n",
       "      <td>0.07</td>\n",
       "      <td>0.07</td>\n",
       "      <td>0.06</td>\n",
       "      <td>0.05</td>\n",
       "      <td>0.05</td>\n",
       "    </tr>\n",
       "    <tr>\n",
       "      <th>normalized_median_absolute_error</th>\n",
       "      <td>0.05</td>\n",
       "      <td>0.06</td>\n",
       "      <td>0.04</td>\n",
       "      <td>0.04</td>\n",
       "      <td>0.04</td>\n",
       "      <td>0.05</td>\n",
       "      <td>0.04</td>\n",
       "      <td>0.05</td>\n",
       "      <td>0.04</td>\n",
       "      <td>0.04</td>\n",
       "    </tr>\n",
       "    <tr>\n",
       "      <th>normalized_root_mean_squared_error</th>\n",
       "      <td>0.09</td>\n",
       "      <td>0.09</td>\n",
       "      <td>0.08</td>\n",
       "      <td>0.08</td>\n",
       "      <td>0.08</td>\n",
       "      <td>0.09</td>\n",
       "      <td>0.10</td>\n",
       "      <td>0.09</td>\n",
       "      <td>0.07</td>\n",
       "      <td>0.08</td>\n",
       "    </tr>\n",
       "    <tr>\n",
       "      <th>normalized_root_mean_squared_log_error</th>\n",
       "      <td>0.10</td>\n",
       "      <td>0.10</td>\n",
       "      <td>0.11</td>\n",
       "      <td>0.08</td>\n",
       "      <td>0.08</td>\n",
       "      <td>0.09</td>\n",
       "      <td>0.10</td>\n",
       "      <td>0.09</td>\n",
       "      <td>0.07</td>\n",
       "      <td>0.08</td>\n",
       "    </tr>\n",
       "    <tr>\n",
       "      <th>r2_score</th>\n",
       "      <td>0.68</td>\n",
       "      <td>0.68</td>\n",
       "      <td>0.75</td>\n",
       "      <td>0.78</td>\n",
       "      <td>0.80</td>\n",
       "      <td>0.63</td>\n",
       "      <td>0.67</td>\n",
       "      <td>0.73</td>\n",
       "      <td>0.83</td>\n",
       "      <td>0.80</td>\n",
       "    </tr>\n",
       "    <tr>\n",
       "      <th>root_mean_squared_error</th>\n",
       "      <td>3.97</td>\n",
       "      <td>3.96</td>\n",
       "      <td>3.48</td>\n",
       "      <td>3.39</td>\n",
       "      <td>3.23</td>\n",
       "      <td>4.05</td>\n",
       "      <td>4.13</td>\n",
       "      <td>3.70</td>\n",
       "      <td>2.99</td>\n",
       "      <td>3.25</td>\n",
       "    </tr>\n",
       "    <tr>\n",
       "      <th>root_mean_squared_log_error</th>\n",
       "      <td>0.18</td>\n",
       "      <td>0.18</td>\n",
       "      <td>0.21</td>\n",
       "      <td>0.15</td>\n",
       "      <td>0.15</td>\n",
       "      <td>0.18</td>\n",
       "      <td>0.19</td>\n",
       "      <td>0.16</td>\n",
       "      <td>0.13</td>\n",
       "      <td>0.14</td>\n",
       "    </tr>\n",
       "    <tr>\n",
       "      <th>spearman_correlation</th>\n",
       "      <td>0.87</td>\n",
       "      <td>0.86</td>\n",
       "      <td>0.92</td>\n",
       "      <td>0.90</td>\n",
       "      <td>0.89</td>\n",
       "      <td>0.86</td>\n",
       "      <td>0.80</td>\n",
       "      <td>0.90</td>\n",
       "      <td>0.91</td>\n",
       "      <td>0.92</td>\n",
       "    </tr>\n",
       "  </tbody>\n",
       "</table>\n",
       "</div>"
      ],
      "text/plain": [
       "                                           0     1     2     3     4     5  \\\n",
       "explained_variance                      0.70  0.71  0.76  0.79  0.80  0.64   \n",
       "mean_absolute_error                     2.98  3.00  2.50  2.34  2.24  3.00   \n",
       "mean_absolute_percentage_error         14.71 14.90 13.30 12.41 12.38 16.27   \n",
       "median_absolute_error                   2.32  2.40  1.86  1.86  1.68  2.26   \n",
       "normalized_mean_absolute_error          0.07  0.07  0.06  0.05  0.05  0.07   \n",
       "normalized_median_absolute_error        0.05  0.06  0.04  0.04  0.04  0.05   \n",
       "normalized_root_mean_squared_error      0.09  0.09  0.08  0.08  0.08  0.09   \n",
       "normalized_root_mean_squared_log_error  0.10  0.10  0.11  0.08  0.08  0.09   \n",
       "r2_score                                0.68  0.68  0.75  0.78  0.80  0.63   \n",
       "root_mean_squared_error                 3.97  3.96  3.48  3.39  3.23  4.05   \n",
       "root_mean_squared_log_error             0.18  0.18  0.21  0.15  0.15  0.18   \n",
       "spearman_correlation                    0.87  0.86  0.92  0.90  0.89  0.86   \n",
       "\n",
       "                                           6     7     8     9  \n",
       "explained_variance                      0.68  0.75  0.83  0.80  \n",
       "mean_absolute_error                     3.00  2.63  2.05  2.25  \n",
       "mean_absolute_percentage_error         14.60 13.61 10.50 11.52  \n",
       "median_absolute_error                   1.83  2.21  1.64  1.80  \n",
       "normalized_mean_absolute_error          0.07  0.06  0.05  0.05  \n",
       "normalized_median_absolute_error        0.04  0.05  0.04  0.04  \n",
       "normalized_root_mean_squared_error      0.10  0.09  0.07  0.08  \n",
       "normalized_root_mean_squared_log_error  0.10  0.09  0.07  0.08  \n",
       "r2_score                                0.67  0.73  0.83  0.80  \n",
       "root_mean_squared_error                 4.13  3.70  2.99  3.25  \n",
       "root_mean_squared_log_error             0.19  0.16  0.13  0.14  \n",
       "spearman_correlation                    0.80  0.90  0.91  0.92  "
      ]
     },
     "execution_count": 78,
     "metadata": {},
     "output_type": "execute_result"
    }
   ],
   "source": [
    "children = list(run.get_children())\n",
    "metricslist = {}\n",
    "for r in children:\n",
    "    properties = r.get_properties()\n",
    "    metrics = {k: v for k, v in r.get_metrics().items() if isinstance(v, float)}\n",
    "    metricslist[int(properties['iteration'])] = metrics\n",
    "\n",
    "rundata = pd.DataFrame(metricslist).sort_index(1)\n",
    "rundata"
   ]
  },
  {
   "cell_type": "markdown",
   "metadata": {},
   "source": [
    "### Retrieve the Best Model\n",
    "\n",
    "Below we select the best pipeline from our iterations. The `get_output` method returns the best run and the fitted model. The Model includes the pipeline and any pre-processing.  Overloads on `get_output` allow you to retrieve the best run and fitted model for *any* logged metric or for a particular *iteration*."
   ]
  },
  {
   "cell_type": "code",
   "execution_count": 80,
   "metadata": {},
   "outputs": [
    {
     "name": "stdout",
     "output_type": "stream",
     "text": [
      "Run(Experiment: house_prices_regression,\n",
      "Id: AutoML_ee92b223-2212-4e27-b8e8-85e0ec1ab92e_8,\n",
      "Type: None,\n",
      "Status: Completed)\n",
      "----------------------------\n",
      "RegressionPipeline(pipeline=Pipeline(memory=None,\n",
      "     steps=[('prefittedsoftvotingregressor', PreFittedSoftVotingRegressor(estimators=[('4', RegressionPipeline(pipeline=Pipeline(memory=None,\n",
      "     steps=[('StandardScalerWrapper', <automl.client.core.common.model_wrappers.StandardScalerWrapper object at 0x7f3ad4478860>), ('LightGBMRegressor', LightGBMReg...         weights=[0.4444444444444444, 0.1111111111111111, 0.2222222222222222, 0.2222222222222222]))]),\n",
      "          stddev=None)\n"
     ]
    }
   ],
   "source": [
    "best_run, fitted_model = run.get_output()\n",
    "print(best_run)\n",
    "print(\"----------------------------\")\n",
    "print(fitted_model)"
   ]
  },
  {
   "cell_type": "markdown",
   "metadata": {},
   "source": [
    "#### Best Model Based on Any Other Metric\n",
    "Show the run and the model that has the smallest `root_mean_squared_error` value (which turned out to be the same as the one with largest `spearman_correlation` value):"
   ]
  },
  {
   "cell_type": "code",
   "execution_count": 81,
   "metadata": {},
   "outputs": [
    {
     "name": "stdout",
     "output_type": "stream",
     "text": [
      "Run(Experiment: house_prices_regression,\n",
      "Id: AutoML_ee92b223-2212-4e27-b8e8-85e0ec1ab92e_2,\n",
      "Type: None,\n",
      "Status: Completed)\n",
      "----------------------------\n",
      "RegressionPipeline(pipeline=Pipeline(memory=None,\n",
      "     steps=[('StandardScalerWrapper', <automl.client.core.common.model_wrappers.StandardScalerWrapper object at 0x7f3ad4432780>), ('ElasticNet', ElasticNet(alpha=0.15873684210526315, copy_X=True, fit_intercept=True,\n",
      "      l1_ratio=0.6873684210526316, max_iter=1000, normalize=False,\n",
      "      positive=False, precompute=False, random_state=None,\n",
      "      selection='cyclic', tol=0.0001, warm_start=False))]),\n",
      "          stddev=None)\n"
     ]
    }
   ],
   "source": [
    "lookup_metric = \"spearman_correlation\"\n",
    "best_run, fitted_model = run.get_output(metric = lookup_metric)\n",
    "print(best_run)\n",
    "print(\"----------------------------\")\n",
    "print(fitted_model)"
   ]
  },
  {
   "cell_type": "code",
   "execution_count": 82,
   "metadata": {},
   "outputs": [
    {
     "name": "stdout",
     "output_type": "stream",
     "text": [
      "Run(Experiment: house_prices_regression,\n",
      "Id: AutoML_ee92b223-2212-4e27-b8e8-85e0ec1ab92e_3,\n",
      "Type: None,\n",
      "Status: Completed)\n",
      "----------------------------\n",
      "RegressionPipeline(pipeline=Pipeline(memory=None,\n",
      "     steps=[('StandardScalerWrapper', <automl.client.core.common.model_wrappers.StandardScalerWrapper object at 0x7f3ad4450a58>), ('RandomForestRegressor', RandomForestRegressor(bootstrap=True, criterion='mse', max_depth=None,\n",
      "           max_features='log2', max_leaf_nodes=None,\n",
      "           min_impurity_d...timators=25, n_jobs=1,\n",
      "           oob_score=False, random_state=None, verbose=0, warm_start=False))]),\n",
      "          stddev=None)\n"
     ]
    }
   ],
   "source": [
    "iteration = 3\n",
    "third_run, third_model = run.get_output(iteration = iteration)\n",
    "print(third_run)\n",
    "print(\"----------------------------\")\n",
    "print(third_model)"
   ]
  },
  {
   "cell_type": "markdown",
   "metadata": {},
   "source": [
    "## Test"
   ]
  },
  {
   "cell_type": "markdown",
   "metadata": {},
   "source": [
    "Predict on training and test set, and calculate residual values."
   ]
  },
  {
   "cell_type": "code",
   "execution_count": 83,
   "metadata": {},
   "outputs": [],
   "source": [
    "X_train_pd = X_train.to_pandas_dataframe()\n",
    "y_train_pd = y_train.to_pandas_dataframe().squeeze()\n",
    "X_test_pd = X_test.to_pandas_dataframe()\n",
    "y_test_pd = y_test.to_pandas_dataframe().squeeze()\n",
    "\n",
    "y_pred_train = fitted_model.predict(X_train_pd)\n",
    "y_residual_train = y_train_pd - y_pred_train\n",
    "\n",
    "y_pred_test = fitted_model.predict(X_test_pd)\n",
    "y_residual_test = y_test_pd - y_pred_test"
   ]
  },
  {
   "cell_type": "code",
   "execution_count": 84,
   "metadata": {},
   "outputs": [
    {
     "data": {
      "image/png": "[encoded data removed]",
      "text/plain": [
       "<Figure size 1152x432 with 2 Axes>"
      ]
     },
     "metadata": {
      "needs_background": "light"
     },
     "output_type": "display_data"
    }
   ],
   "source": [
    "%matplotlib inline\n",
    "\n",
    "# Set up a multi-plot chart.\n",
    "f, (a0, a1) = plt.subplots(1, 2, gridspec_kw = {'width_ratios':[1, 1], 'wspace':0, 'hspace': 0})\n",
    "f.suptitle('Regression Residual Values', fontsize = 18)\n",
    "f.set_figheight(6)\n",
    "f.set_figwidth(16)\n",
    "\n",
    "# Plot residual values of training set.\n",
    "a0.axis([0, 360, -200, 200])\n",
    "a0.plot(y_residual_train, 'bo', alpha = 0.5)\n",
    "a0.plot([-10,360],[0,0], 'r-', lw = 3)\n",
    "a0.text(16,170,'RMSE = {0:.2f}'.format(np.sqrt(mean_squared_error(y_train_pd, y_pred_train))), fontsize = 12)\n",
    "a0.text(16,140,'R2 score = {0:.2f}'.format(r2_score(y_train_pd, y_pred_train)), fontsize = 12)\n",
    "a0.set_xlabel('Training samples', fontsize = 12)\n",
    "a0.set_ylabel('Residual Values', fontsize = 12)\n",
    "\n",
    "# Plot a histogram.\n",
    "a0.hist(y_residual_train, orientation = 'horizontal', color = 'b', bins = 10, histtype = 'step')\n",
    "a0.hist(y_residual_train, orientation = 'horizontal', color = 'b', alpha = 0.2, bins = 10)\n",
    "\n",
    "# Plot residual values of test set.\n",
    "a1.axis([0, 90, -200, 200])\n",
    "a1.plot(y_residual_test, 'bo', alpha = 0.5)\n",
    "a1.plot([-10,360],[0,0], 'r-', lw = 3)\n",
    "a1.text(5,170,'RMSE = {0:.2f}'.format(np.sqrt(mean_squared_error(y_test_pd, y_pred_test))), fontsize = 12)\n",
    "a1.text(5,140,'R2 score = {0:.2f}'.format(r2_score(y_test_pd, y_pred_test)), fontsize = 12)\n",
    "a1.set_xlabel('Test samples', fontsize = 12)\n",
    "a1.set_yticklabels([])\n",
    "\n",
    "# Plot a histogram.\n",
    "a1.hist(y_residual_test, orientation = 'horizontal', color = 'b', bins = 10, histtype = 'step')\n",
    "a1.hist(y_residual_test, orientation = 'horizontal', color = 'b', alpha = 0.2, bins = 10)\n",
    "\n",
    "plt.show()"
   ]
  },
  {
   "cell_type": "code",
   "execution_count": 85,
   "metadata": {},
   "outputs": [],
   "source": [
    "all_rmse = {}\n",
    "for ite in range(aml_config['iterations']):\n",
    "    try:\n",
    "        i_run, model = run.get_output(iteration = ite)\n",
    "        y_pred_test = model.predict(X_test_pd)\n",
    "        all_rmse[ite] = np.sqrt(mean_squared_error(y_test_pd, y_pred_test))\n",
    "    except Exception as e:\n",
    "        print(f\"Iteration {ite} gave an error {e}.\")"
   ]
  },
  {
   "cell_type": "code",
   "execution_count": 86,
   "metadata": {},
   "outputs": [
    {
     "data": {
      "text/plain": [
       "{0: 6.064030259958559,\n",
       " 1: 5.984815647740433,\n",
       " 2: 5.46177975902496,\n",
       " 3: 5.688519076706345,\n",
       " 4: 5.756417944463689,\n",
       " 5: 5.3185977081222475,\n",
       " 6: 5.840916156715205,\n",
       " 7: 5.911858699770488,\n",
       " 8: 5.276200643129252,\n",
       " 9: 5.174207673102299}"
      ]
     },
     "execution_count": 86,
     "metadata": {},
     "output_type": "execute_result"
    }
   ],
   "source": [
    "all_rmse"
   ]
  },
  {
   "cell_type": "code",
   "execution_count": 87,
   "metadata": {},
   "outputs": [
    {
     "name": "stdout",
     "output_type": "stream",
     "text": [
      "Best iteration is number 9\n",
      "--------------\n",
      "Run(Experiment: house_prices_regression,\n",
      "Id: AutoML_ee92b223-2212-4e27-b8e8-85e0ec1ab92e_9,\n",
      "Type: None,\n",
      "Status: Completed)\n",
      "['outputs/conda_env_v_1_0_0.yml', 'outputs/env_dependencies.json', 'outputs/model.pkl', 'outputs/scoring_file_v_1_0_0.py', 'predicted_true', 'residuals']\n",
      "--------------\n",
      "RegressionPipeline(pipeline=Pipeline(memory=None,\n",
      "     steps=[('stackensembleregressor', StackEnsembleRegressor(base_learners=[('4', RegressionPipeline(pipeline=Pipeline(memory=None,\n",
      "     steps=[('StandardScalerWrapper', <automl.client.core.common.model_wrappers.StandardScalerWrapper object at 0x7f3ad42878d0>), ('LightGBMRegressor', LightGBMRegressor(bo...   random_state=None, selection='cyclic', tol=0.0001, verbose=0),\n",
      "            training_cv_folds=5))]),\n",
      "          stddev=None)\n"
     ]
    }
   ],
   "source": [
    "best_iteration = sorted(all_rmse, key=all_rmse.get, reverse=False)[0]\n",
    "print(f'Best iteration is number {best_iteration}')\n",
    "print(\"--------------\")\n",
    "best_test_run, best_test_model = run.get_output(iteration = best_iteration)\n",
    "print(best_test_run)\n",
    "print(best_test_run.get_file_names())\n",
    "print(\"--------------\")\n",
    "print(best_test_model)\n",
    "# print(best_test_model.get_model_path())"
   ]
  },
  {
   "cell_type": "code",
   "execution_count": 88,
   "metadata": {},
   "outputs": [],
   "source": [
    "dependencies = run.get_run_sdk_dependencies(iteration = best_iteration)"
   ]
  },
  {
   "cell_type": "code",
   "execution_count": 89,
   "metadata": {},
   "outputs": [
    {
     "name": "stdout",
     "output_type": "stream",
     "text": [
      "azureml-train-automl\t1.0.57\n",
      "azureml-core\t1.0.57\n"
     ]
    }
   ],
   "source": [
    "for p in ['azureml-train-automl', 'azureml-core']:\n",
    "    print('{}\\t{}'.format(p, dependencies[p]))"
   ]
  },
  {
   "cell_type": "code",
   "execution_count": 90,
   "metadata": {},
   "outputs": [
    {
     "data": {
      "text/plain": [
       "'conda_dependencies.yml'"
      ]
     },
     "execution_count": 90,
     "metadata": {},
     "output_type": "execute_result"
    }
   ],
   "source": [
    "myenv = CondaDependencies.create(conda_packages=['numpy','scikit-learn','py-xgboost==0.80'], pip_packages=['azureml-train-automl','azureml-core'])\n",
    "\n",
    "conda_env_file_name = 'conda_dependencies.yml'\n",
    "myenv.save_to_file('.', conda_env_file_name)"
   ]
  },
  {
   "cell_type": "markdown",
   "metadata": {},
   "source": [
    "## Register model and commit dependencies and score files first\n",
    "\n",
    "Since the Release is triggered from a new version of the model, first the dependent files are updated in the repo, then the new model is registered, which triggers the release."
   ]
  },
  {
   "cell_type": "code",
   "execution_count": 91,
   "metadata": {},
   "outputs": [
    {
     "name": "stdout",
     "output_type": "stream",
     "text": [
      "No changes to commit.\n"
     ]
    }
   ],
   "source": [
    "dep_changes = !git diff conda_dependencies.yml\n",
    "score_changes = !git diff score.py\n",
    "inference_changes = !git diff inference_config.json\n",
    "aci_config_changes = !git diff aci_deployment_config.json\n",
    "aks_config_changes = !git diff aks_deployment_config.json\n",
    "if len(dep_changes) > 0:\n",
    "    !git add conda_dependencies.yml\n",
    "if len(score_changes) > 0:\n",
    "    !git add score.py\n",
    "if len(inference_changes) > 0:\n",
    "    !git add inference_config.json\n",
    "if len(aci_config_changes) > 0:\n",
    "    !git add aci_deployment_config.json\n",
    "if len(aks_config_changes) > 0:\n",
    "    !git add aks_deployment_config.json\n",
    "if len(dep_changes)+len(score_changes)+len(inference_changes)+len(aci_config_changes)+len(aks_config_changes)>0:\n",
    "    print(\"Changes to commit. Committing and pushing now\")\n",
    "    !git commit -m \"Commit from NB\"\n",
    "    !git push\n",
    "else:\n",
    "    print(\"No changes to commit.\")"
   ]
  },
  {
   "cell_type": "code",
   "execution_count": 92,
   "metadata": {},
   "outputs": [
    {
     "name": "stdout",
     "output_type": "stream",
     "text": [
      "house_prices_regression\thouse_prices_regression:11\t11\n"
     ]
    }
   ],
   "source": [
    "name = \"house_prices_regression\"\n",
    "deploy = True\n",
    "if deploy:\n",
    "    model_registered = best_test_run.register_model(name, model_path='outputs/model.pkl')\n",
    "else:\n",
    "    # get the existing deployed model instead\n",
    "    model_registered = Model(ws, name=name)\n",
    "print(model_registered.name, model_registered.id, model_registered.version, sep='\\t')"
   ]
  },
  {
   "cell_type": "code",
   "execution_count": 42,
   "metadata": {},
   "outputs": [],
   "source": [
    "import json\n",
    "import pickle\n",
    "import numpy as np\n",
    "import pandas as pd\n",
    "import azureml.train.automl\n",
    "from sklearn.externals import joblib\n",
    "from azureml.core.model import Model\n",
    "\n",
    "# from inference_schema.schema_decorators import input_schema, output_schema\n",
    "# from inference_schema.parameter_types.numpy_parameter_type import NumpyParameterType\n",
    "# from inference_schema.parameter_types.pandas_parameter_type import PandasParameterType\n",
    "\n",
    "input_sample = np.array({\"data\": [[0.02731,0.0,7.07,0.0,0.469,6.421,78.9,4.9671,2.0,242.0,17.8,396.9,9.14]]})\n",
    "output_sample = np.array([0])\n",
    "\n",
    "\n",
    "def init():\n",
    "    global model\n",
    "    # This name is model.id of model that we want to deploy deserialize the model file back\n",
    "    # into a sklearn model\n",
    "    model_path = Model.get_model_path(model_name = 'house_prices_regression')\n",
    "    print(model_path)\n",
    "    model = joblib.load(model_path)\n",
    "\n",
    "\n",
    "# @input_schema('data', NumpyParameterType(input_sample))\n",
    "# @output_schema(NumpyParameterType(output_sample))\n",
    "def run(raw_data):\n",
    "    try:\n",
    "        data = json.loads(raw_data)['data']\n",
    "        data = np.array(data)\n",
    "        result = model.predict(data)\n",
    "        return result.tolist()\n",
    "    except Exception as e:\n",
    "        result = str(e)\n",
    "        return json.dumps({\"error\": result})\n",
    "    return json.dumps({\"result\": result.tolist()})"
   ]
  },
  {
   "cell_type": "code",
   "execution_count": 43,
   "metadata": {},
   "outputs": [],
   "source": [
    "test_data = {\"data\": [[ 0.00632, 18.0, 2.31, 0.0,0.538, 6.575, 65.2, 4.09, 1.0, 296.0, 15.3, 396.9, 4.98 ]]}\n"
   ]
  },
  {
   "cell_type": "code",
   "execution_count": 44,
   "metadata": {},
   "outputs": [
    {
     "name": "stdout",
     "output_type": "stream",
     "text": [
      "azureml-models/house_prices_regression/8/model.pkl\n"
     ]
    },
    {
     "data": {
      "text/plain": [
       "[29.65409319996861]"
      ]
     },
     "execution_count": 44,
     "metadata": {},
     "output_type": "execute_result"
    }
   ],
   "source": [
    "init()\n",
    "run(json.dumps(test_data))"
   ]
  },
  {
   "cell_type": "code",
   "execution_count": null,
   "metadata": {},
   "outputs": [],
   "source": [
    "from sklearn.externals import joblib\n",
    "# model_path = Model.get_model_path(model_name=\"sample_projects/house_prices_regression\")\n",
    "joblib.load(model)"
   ]
  },
  {
   "cell_type": "code",
   "execution_count": null,
   "metadata": {},
   "outputs": [],
   "source": [
    "from azureml.core.webservice import LocalWebservice\n",
    "from azureml.core.conda_dependencies import CondaDependencies\n",
    "from azureml.core.environment import Environment\n",
    "from azureml.core.model import InferenceConfig\n",
    "\n",
    "environment = Environment(\"LocalDeploy\")\n",
    "environment.python.conda_dependencies = CondaDependencies(\"conda_dependencies.yml\")\n",
    "\n",
    "inference_config = InferenceConfig(entry_script=\"score.py\", environment=environment)\n",
    "deployment_config = LocalWebservice.deploy_configuration(port=6789)\n",
    "\n",
    "local_service = Model.deploy(ws, \"test\", [best_test_model], inference_config, deployment_config)\n",
    "local_service.wait_for_deployment()"
   ]
  },
  {
   "cell_type": "code",
   "execution_count": null,
   "metadata": {},
   "outputs": [],
   "source": []
  }
 ],
 "metadata": {
  "authors": [
   {
    "name": "savitam"
   }
  ],
  "kernelspec": {
   "display_name": "Python 3.6 - AzureML",
   "language": "python",
   "name": "python3-azureml"
  },
  "language_info": {
   "codemirror_mode": {
    "name": "ipython",
    "version": 3
   },
   "file_extension": ".py",
   "mimetype": "text/x-python",
   "name": "python",
   "nbconvert_exporter": "python",
   "pygments_lexer": "ipython3",
   "version": "3.6.8"
  }
 },
 "nbformat": 4,
 "nbformat_minor": 2
}
