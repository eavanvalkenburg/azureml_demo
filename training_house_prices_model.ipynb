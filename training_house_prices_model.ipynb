{
 "cells": [
  {
   "cell_type": "markdown",
   "metadata": {},
   "source": [
    "![Impressions](https://PixelServer20190423114238.azurewebsites.net/api/impressions/MachineLearningNotebooks/how-to-use-azureml/automated-machine-learning/regression/auto-ml-regression.png)"
   ]
  },
  {
   "cell_type": "code",
   "execution_count": 1,
   "metadata": {},
   "outputs": [
    {
     "name": "stdout",
     "output_type": "stream",
     "text": [
      "1.0.57\n"
     ]
    }
   ],
   "source": [
    "import logging\n",
    "\n",
    "from matplotlib import pyplot as plt\n",
    "import numpy as np\n",
    "import pandas as pd\n",
    "\n",
    "import azureml.core\n",
    "from azureml.core.experiment import Experiment\n",
    "from azureml.core.workspace import Workspace\n",
    "from azureml.train.automl import AutoMLConfig\n",
    "from azureml.core.datastore import Datastore\n",
    "from azureml.core.dataset import Dataset\n",
    "from azureml.data.data_reference import DataReference\n",
    "from azureml.core.compute import AmlCompute\n",
    "from azureml.core.compute import ComputeTarget\n",
    "from azureml.core.runconfig import RunConfiguration\n",
    "from azureml.core.conda_dependencies import CondaDependencies\n",
    "print(azureml.core.VERSION) #should be 1.0.57 or greater"
   ]
  },
  {
   "cell_type": "code",
   "execution_count": 2,
   "metadata": {},
   "outputs": [],
   "source": [
    "ws = Workspace.from_config()\n",
    "experiment_name = 'house_prices_regression'\n",
    "project_folder = './sample_projects/house_prices_regression'\n",
    "experiment = Experiment(ws, experiment_name)"
   ]
  },
  {
   "cell_type": "markdown",
   "metadata": {},
   "source": [
    "## Data\n",
    "This uses the AzureML datastore and dataset api's, as well as data manipulation, with keep_ and drop_ columns, and random_split."
   ]
  },
  {
   "cell_type": "code",
   "execution_count": 3,
   "metadata": {},
   "outputs": [
    {
     "data": {
      "text/html": [
       "<div>\n",
       "<style scoped>\n",
       "    .dataframe tbody tr th:only-of-type {\n",
       "        vertical-align: middle;\n",
       "    }\n",
       "\n",
       "    .dataframe tbody tr th {\n",
       "        vertical-align: top;\n",
       "    }\n",
       "\n",
       "    .dataframe thead th {\n",
       "        text-align: right;\n",
       "    }\n",
       "</style>\n",
       "<table border=\"1\" class=\"dataframe\">\n",
       "  <thead>\n",
       "    <tr style=\"text-align: right;\">\n",
       "      <th></th>\n",
       "      <th>CrimeRate</th>\n",
       "      <th>ResidentialZoning</th>\n",
       "      <th>IndustrialZoning</th>\n",
       "      <th>OnRiver</th>\n",
       "      <th>NOXConcentration</th>\n",
       "      <th>NumberOfRooms</th>\n",
       "      <th>PreWarHouses</th>\n",
       "      <th>DistanceToEmployment</th>\n",
       "      <th>DistanceToHighways</th>\n",
       "      <th>PropertyTaxRate</th>\n",
       "      <th>ParentTeachRatio</th>\n",
       "      <th>ProportionAA</th>\n",
       "      <th>LowerStatusProportion</th>\n",
       "      <th>Price</th>\n",
       "    </tr>\n",
       "  </thead>\n",
       "  <tbody>\n",
       "    <tr>\n",
       "      <th>0</th>\n",
       "      <td>0.01</td>\n",
       "      <td>18.00</td>\n",
       "      <td>2.31</td>\n",
       "      <td>0.00</td>\n",
       "      <td>0.54</td>\n",
       "      <td>6.58</td>\n",
       "      <td>65.20</td>\n",
       "      <td>4.09</td>\n",
       "      <td>1.00</td>\n",
       "      <td>296.00</td>\n",
       "      <td>15.30</td>\n",
       "      <td>396.90</td>\n",
       "      <td>4.98</td>\n",
       "      <td>24.00</td>\n",
       "    </tr>\n",
       "    <tr>\n",
       "      <th>1</th>\n",
       "      <td>0.03</td>\n",
       "      <td>0.00</td>\n",
       "      <td>7.07</td>\n",
       "      <td>0.00</td>\n",
       "      <td>0.47</td>\n",
       "      <td>6.42</td>\n",
       "      <td>78.90</td>\n",
       "      <td>4.97</td>\n",
       "      <td>2.00</td>\n",
       "      <td>242.00</td>\n",
       "      <td>17.80</td>\n",
       "      <td>396.90</td>\n",
       "      <td>9.14</td>\n",
       "      <td>21.60</td>\n",
       "    </tr>\n",
       "    <tr>\n",
       "      <th>2</th>\n",
       "      <td>0.03</td>\n",
       "      <td>0.00</td>\n",
       "      <td>7.07</td>\n",
       "      <td>0.00</td>\n",
       "      <td>0.47</td>\n",
       "      <td>7.18</td>\n",
       "      <td>61.10</td>\n",
       "      <td>4.97</td>\n",
       "      <td>2.00</td>\n",
       "      <td>242.00</td>\n",
       "      <td>17.80</td>\n",
       "      <td>392.83</td>\n",
       "      <td>4.03</td>\n",
       "      <td>34.70</td>\n",
       "    </tr>\n",
       "  </tbody>\n",
       "</table>\n",
       "</div>"
      ],
      "text/plain": [
       "   CrimeRate  ResidentialZoning  IndustrialZoning  OnRiver  NOXConcentration  \\\n",
       "0       0.01              18.00              2.31     0.00              0.54   \n",
       "1       0.03               0.00              7.07     0.00              0.47   \n",
       "2       0.03               0.00              7.07     0.00              0.47   \n",
       "\n",
       "   NumberOfRooms  PreWarHouses  DistanceToEmployment  DistanceToHighways  \\\n",
       "0           6.58         65.20                  4.09                1.00   \n",
       "1           6.42         78.90                  4.97                2.00   \n",
       "2           7.18         61.10                  4.97                2.00   \n",
       "\n",
       "   PropertyTaxRate  ParentTeachRatio  ProportionAA  LowerStatusProportion  \\\n",
       "0           296.00             15.30        396.90                   4.98   \n",
       "1           242.00             17.80        396.90                   9.14   \n",
       "2           242.00             17.80        392.83                   4.03   \n",
       "\n",
       "   Price  \n",
       "0  24.00  \n",
       "1  21.60  \n",
       "2  34.70  "
      ]
     },
     "execution_count": 3,
     "metadata": {},
     "output_type": "execute_result"
    }
   ],
   "source": [
    "datastore_name = 'edvanstorage__azureml'\n",
    "dataset_path = 'boston_houses/boston_data.csv'\n",
    "datastore = Datastore.get(ws, datastore_name)\n",
    "data_reference = DataReference(datastore, data_reference_name=\"boston_data\", path_on_datastore=dataset_path)\n",
    "boston_ds = Dataset.Tabular.from_delimited_files(data_reference)\n",
    "boston_ds = boston_ds.drop_columns('Column1')\n",
    "boston_ds.take(3).to_pandas_dataframe()"
   ]
  },
  {
   "cell_type": "code",
   "execution_count": 5,
   "metadata": {},
   "outputs": [],
   "source": [
    "b_train, b_test = boston_ds.random_split(0.2, seed=84)\n",
    "X_train = b_train.drop_columns('Price')\n",
    "y_train = b_train.keep_columns('Price')\n",
    "X_test = b_test.drop_columns('Price')\n",
    "y_test = b_test.keep_columns('Price')"
   ]
  },
  {
   "cell_type": "markdown",
   "metadata": {},
   "source": [
    "## Remote compute\n",
    "Setup the environments for remote compute, we might not need it..."
   ]
  },
  {
   "cell_type": "code",
   "execution_count": 6,
   "metadata": {},
   "outputs": [],
   "source": [
    "compute_target = ws.compute_targets['cpucluster']\n",
    "run_config = RunConfiguration(framework=\"python\")\n",
    "run_config.target = compute_target\n",
    "run_config.environment.docker.enabled = True\n",
    "run_config.environment.docker.base_image = azureml.core.runconfig.DEFAULT_CPU_IMAGE\n",
    "\n",
    "dependencies = CondaDependencies.create(\n",
    "    pip_packages=[\"scikit-learn\", \"scipy\", \"numpy\"])\n",
    "run_config.environment.python.conda_dependencies = dependencies"
   ]
  },
  {
   "cell_type": "markdown",
   "metadata": {},
   "source": [
    "## Train\n",
    "\n",
    "Instantiate an `AutoMLConfig` object to specify the settings for both local and remote runs and data used to run the experiment."
   ]
  },
  {
   "cell_type": "code",
   "execution_count": 7,
   "metadata": {},
   "outputs": [],
   "source": [
    "aml_config = {\"task\": 'regression',\n",
    "         \"iteration_timeout_minutes\": 10,\n",
    "         \"primary_metric\": 'normalized_root_mean_squared_error',\n",
    "         \"debug_log\": 'automl.log',\n",
    "         \"verbosity\": logging.INFO,\n",
    "         \"enable_early_stopping\": True,\n",
    "         \"X\": X_train, \n",
    "         \"y\": y_train,\n",
    "         \"path\": project_folder}\n",
    "\n",
    "local_run = True\n",
    "if local_run:\n",
    "    numb_run_config = {\n",
    "        'iterations': 10,\n",
    "        'n_cross_validations': 5\n",
    "    }\n",
    "else:\n",
    "    numb_run_config = {\n",
    "        'iterations': 250,\n",
    "        'n_cross_validations': 10\n",
    "    }    \n",
    "    remote_config = {\n",
    "        'compute_target': compute_target,\n",
    "        'run_configuration': run_config,\n",
    "        'max_cores_per_iteration': 2,\n",
    "        'max_concurrent_iterations': 20,\n",
    "    }\n",
    "    aml_config.update(remote_config)\n",
    "aml_config.update(numb_run_config)\n",
    "    \n",
    "automl_config = AutoMLConfig(**aml_config)"
   ]
  },
  {
   "cell_type": "code",
   "execution_count": 8,
   "metadata": {},
   "outputs": [
    {
     "name": "stdout",
     "output_type": "stream",
     "text": [
      "Running 10 iterations on local compute, with 5-fold cross validation.\n",
      "Not showing output here. Please run the Widget cell below.\n"
     ]
    }
   ],
   "source": [
    "show_run = False\n",
    "if 'compute_target' in aml_config:\n",
    "    print(f\"Running {aml_config['iterations']} iterations on remote compute (with {compute_target.vm_size} VM's), with {aml_config['n_cross_validations']}-fold cross validation.\")\n",
    "else:\n",
    "    print(f\"Running {aml_config['iterations']} iterations on local compute, with {aml_config['n_cross_validations']}-fold cross validation.\")\n",
    "if not show_run:\n",
    "    print(\"Not showing output here. Please run the Widget cell below.\")\n",
    "else:\n",
    "    print(\"---------------------------------------------------------------------------------\")\n",
    "run = experiment.submit(automl_config, show_output = show_run)"
   ]
  },
  {
   "cell_type": "code",
   "execution_count": 9,
   "metadata": {},
   "outputs": [
    {
     "ename": "ModuleNotFoundError",
     "evalue": "No module named 'azureml.widgets'",
     "output_type": "error",
     "traceback": [
      "\u001b[1;31m---------------------------------------------------------------------------\u001b[0m",
      "\u001b[1;31mModuleNotFoundError\u001b[0m                       Traceback (most recent call last)",
      "\u001b[1;32m<ipython-input-9-3cb5a35b804e>\u001b[0m in \u001b[0;36m<module>\u001b[1;34m\u001b[0m\n\u001b[1;32m----> 1\u001b[1;33m \u001b[1;32mfrom\u001b[0m \u001b[0mazureml\u001b[0m\u001b[1;33m.\u001b[0m\u001b[0mwidgets\u001b[0m \u001b[1;32mimport\u001b[0m \u001b[0mRunDetails\u001b[0m\u001b[1;33m\u001b[0m\u001b[1;33m\u001b[0m\u001b[0m\n\u001b[0m\u001b[0;32m      2\u001b[0m \u001b[0mRunDetails\u001b[0m\u001b[1;33m(\u001b[0m\u001b[0mrun\u001b[0m\u001b[1;33m)\u001b[0m\u001b[1;33m.\u001b[0m\u001b[0mshow\u001b[0m\u001b[1;33m(\u001b[0m\u001b[1;33m)\u001b[0m\u001b[1;33m\u001b[0m\u001b[1;33m\u001b[0m\u001b[0m\n",
      "\u001b[1;31mModuleNotFoundError\u001b[0m: No module named 'azureml.widgets'"
     ]
    }
   ],
   "source": [
    "from azureml.widgets import RunDetails\n",
    "RunDetails(run).show() "
   ]
  },
  {
   "cell_type": "code",
   "execution_count": 10,
   "metadata": {},
   "outputs": [
    {
     "data": {
      "text/html": [
       "<table style=\"width:100%\"><tr><th>Experiment</th><th>Id</th><th>Type</th><th>Status</th><th>Details Page</th><th>Docs Page</th></tr><tr><td>house_prices_regression</td><td>AutoML_09a5a593-af18-405d-b0e7-6c5c2b2e3578</td><td>automl</td><td>Completed</td><td><a href=\"https://mlworkspace.azure.ai/portal/subscriptions/8f962503-0c00-4280-a157-8c20b3a9d990/resourceGroups/azureml/providers/Microsoft.MachineLearningServices/workspaces/azureml_kickstarter/experiments/house_prices_regression/runs/AutoML_09a5a593-af18-405d-b0e7-6c5c2b2e3578\" target=\"_blank\" rel=\"noopener\">Link to Azure Portal</a></td><td><a href=\"https://docs.microsoft.com/en-us/python/api/overview/azure/ml/intro?view=azure-ml-py\" target=\"_blank\" rel=\"noopener\">Link to Documentation</a></td></tr></table>"
      ],
      "text/plain": [
       "Run(Experiment: house_prices_regression,\n",
       "Id: AutoML_09a5a593-af18-405d-b0e7-6c5c2b2e3578,\n",
       "Type: automl,\n",
       "Status: Completed)"
      ]
     },
     "execution_count": 10,
     "metadata": {},
     "output_type": "execute_result"
    }
   ],
   "source": [
    "run"
   ]
  },
  {
   "cell_type": "markdown",
   "metadata": {},
   "source": [
    "\n",
    "#### Retrieve All Child Runs\n",
    "You can also use SDK methods to fetch all the child runs and see individual metrics that we log."
   ]
  },
  {
   "cell_type": "code",
   "execution_count": 11,
   "metadata": {},
   "outputs": [
    {
     "data": {
      "text/html": [
       "<div>\n",
       "<style scoped>\n",
       "    .dataframe tbody tr th:only-of-type {\n",
       "        vertical-align: middle;\n",
       "    }\n",
       "\n",
       "    .dataframe tbody tr th {\n",
       "        vertical-align: top;\n",
       "    }\n",
       "\n",
       "    .dataframe thead th {\n",
       "        text-align: right;\n",
       "    }\n",
       "</style>\n",
       "<table border=\"1\" class=\"dataframe\">\n",
       "  <thead>\n",
       "    <tr style=\"text-align: right;\">\n",
       "      <th></th>\n",
       "      <th>0</th>\n",
       "      <th>1</th>\n",
       "      <th>2</th>\n",
       "      <th>3</th>\n",
       "      <th>4</th>\n",
       "      <th>5</th>\n",
       "      <th>6</th>\n",
       "      <th>7</th>\n",
       "      <th>8</th>\n",
       "      <th>9</th>\n",
       "    </tr>\n",
       "  </thead>\n",
       "  <tbody>\n",
       "    <tr>\n",
       "      <th>explained_variance</th>\n",
       "      <td>0.70</td>\n",
       "      <td>0.71</td>\n",
       "      <td>0.76</td>\n",
       "      <td>0.79</td>\n",
       "      <td>0.80</td>\n",
       "      <td>0.64</td>\n",
       "      <td>0.51</td>\n",
       "      <td>0.80</td>\n",
       "      <td>0.83</td>\n",
       "      <td>0.82</td>\n",
       "    </tr>\n",
       "    <tr>\n",
       "      <th>mean_absolute_error</th>\n",
       "      <td>2.98</td>\n",
       "      <td>3.00</td>\n",
       "      <td>2.50</td>\n",
       "      <td>2.35</td>\n",
       "      <td>2.24</td>\n",
       "      <td>3.00</td>\n",
       "      <td>3.36</td>\n",
       "      <td>2.27</td>\n",
       "      <td>1.98</td>\n",
       "      <td>2.10</td>\n",
       "    </tr>\n",
       "    <tr>\n",
       "      <th>mean_absolute_percentage_error</th>\n",
       "      <td>14.71</td>\n",
       "      <td>14.90</td>\n",
       "      <td>13.30</td>\n",
       "      <td>12.84</td>\n",
       "      <td>12.38</td>\n",
       "      <td>16.27</td>\n",
       "      <td>16.48</td>\n",
       "      <td>11.61</td>\n",
       "      <td>10.31</td>\n",
       "      <td>10.75</td>\n",
       "    </tr>\n",
       "    <tr>\n",
       "      <th>median_absolute_error</th>\n",
       "      <td>2.32</td>\n",
       "      <td>2.40</td>\n",
       "      <td>1.86</td>\n",
       "      <td>1.74</td>\n",
       "      <td>1.68</td>\n",
       "      <td>2.26</td>\n",
       "      <td>2.22</td>\n",
       "      <td>1.68</td>\n",
       "      <td>1.34</td>\n",
       "      <td>1.48</td>\n",
       "    </tr>\n",
       "    <tr>\n",
       "      <th>normalized_mean_absolute_error</th>\n",
       "      <td>0.07</td>\n",
       "      <td>0.07</td>\n",
       "      <td>0.06</td>\n",
       "      <td>0.05</td>\n",
       "      <td>0.05</td>\n",
       "      <td>0.07</td>\n",
       "      <td>0.08</td>\n",
       "      <td>0.05</td>\n",
       "      <td>0.05</td>\n",
       "      <td>0.05</td>\n",
       "    </tr>\n",
       "    <tr>\n",
       "      <th>normalized_median_absolute_error</th>\n",
       "      <td>0.05</td>\n",
       "      <td>0.06</td>\n",
       "      <td>0.04</td>\n",
       "      <td>0.04</td>\n",
       "      <td>0.04</td>\n",
       "      <td>0.05</td>\n",
       "      <td>0.05</td>\n",
       "      <td>0.04</td>\n",
       "      <td>0.03</td>\n",
       "      <td>0.03</td>\n",
       "    </tr>\n",
       "    <tr>\n",
       "      <th>normalized_root_mean_squared_error</th>\n",
       "      <td>0.09</td>\n",
       "      <td>0.09</td>\n",
       "      <td>0.08</td>\n",
       "      <td>0.08</td>\n",
       "      <td>0.08</td>\n",
       "      <td>0.09</td>\n",
       "      <td>0.12</td>\n",
       "      <td>0.08</td>\n",
       "      <td>0.07</td>\n",
       "      <td>0.07</td>\n",
       "    </tr>\n",
       "    <tr>\n",
       "      <th>normalized_root_mean_squared_log_error</th>\n",
       "      <td>0.10</td>\n",
       "      <td>0.10</td>\n",
       "      <td>0.11</td>\n",
       "      <td>0.08</td>\n",
       "      <td>0.08</td>\n",
       "      <td>0.09</td>\n",
       "      <td>0.11</td>\n",
       "      <td>0.08</td>\n",
       "      <td>0.07</td>\n",
       "      <td>0.08</td>\n",
       "    </tr>\n",
       "    <tr>\n",
       "      <th>r2_score</th>\n",
       "      <td>0.68</td>\n",
       "      <td>0.68</td>\n",
       "      <td>0.75</td>\n",
       "      <td>0.79</td>\n",
       "      <td>0.80</td>\n",
       "      <td>0.63</td>\n",
       "      <td>0.50</td>\n",
       "      <td>0.79</td>\n",
       "      <td>0.83</td>\n",
       "      <td>0.81</td>\n",
       "    </tr>\n",
       "    <tr>\n",
       "      <th>root_mean_squared_error</th>\n",
       "      <td>3.97</td>\n",
       "      <td>3.96</td>\n",
       "      <td>3.48</td>\n",
       "      <td>3.38</td>\n",
       "      <td>3.23</td>\n",
       "      <td>4.05</td>\n",
       "      <td>4.96</td>\n",
       "      <td>3.36</td>\n",
       "      <td>2.96</td>\n",
       "      <td>3.13</td>\n",
       "    </tr>\n",
       "    <tr>\n",
       "      <th>root_mean_squared_log_error</th>\n",
       "      <td>0.18</td>\n",
       "      <td>0.18</td>\n",
       "      <td>0.21</td>\n",
       "      <td>0.16</td>\n",
       "      <td>0.15</td>\n",
       "      <td>0.18</td>\n",
       "      <td>0.21</td>\n",
       "      <td>0.14</td>\n",
       "      <td>0.13</td>\n",
       "      <td>0.14</td>\n",
       "    </tr>\n",
       "    <tr>\n",
       "      <th>spearman_correlation</th>\n",
       "      <td>0.87</td>\n",
       "      <td>0.86</td>\n",
       "      <td>0.92</td>\n",
       "      <td>0.90</td>\n",
       "      <td>0.89</td>\n",
       "      <td>0.86</td>\n",
       "      <td>0.80</td>\n",
       "      <td>0.88</td>\n",
       "      <td>0.93</td>\n",
       "      <td>0.93</td>\n",
       "    </tr>\n",
       "  </tbody>\n",
       "</table>\n",
       "</div>"
      ],
      "text/plain": [
       "                                           0     1     2     3     4     5  \\\n",
       "explained_variance                      0.70  0.71  0.76  0.79  0.80  0.64   \n",
       "mean_absolute_error                     2.98  3.00  2.50  2.35  2.24  3.00   \n",
       "mean_absolute_percentage_error         14.71 14.90 13.30 12.84 12.38 16.27   \n",
       "median_absolute_error                   2.32  2.40  1.86  1.74  1.68  2.26   \n",
       "normalized_mean_absolute_error          0.07  0.07  0.06  0.05  0.05  0.07   \n",
       "normalized_median_absolute_error        0.05  0.06  0.04  0.04  0.04  0.05   \n",
       "normalized_root_mean_squared_error      0.09  0.09  0.08  0.08  0.08  0.09   \n",
       "normalized_root_mean_squared_log_error  0.10  0.10  0.11  0.08  0.08  0.09   \n",
       "r2_score                                0.68  0.68  0.75  0.79  0.80  0.63   \n",
       "root_mean_squared_error                 3.97  3.96  3.48  3.38  3.23  4.05   \n",
       "root_mean_squared_log_error             0.18  0.18  0.21  0.16  0.15  0.18   \n",
       "spearman_correlation                    0.87  0.86  0.92  0.90  0.89  0.86   \n",
       "\n",
       "                                           6     7     8     9  \n",
       "explained_variance                      0.51  0.80  0.83  0.82  \n",
       "mean_absolute_error                     3.36  2.27  1.98  2.10  \n",
       "mean_absolute_percentage_error         16.48 11.61 10.31 10.75  \n",
       "median_absolute_error                   2.22  1.68  1.34  1.48  \n",
       "normalized_mean_absolute_error          0.08  0.05  0.05  0.05  \n",
       "normalized_median_absolute_error        0.05  0.04  0.03  0.03  \n",
       "normalized_root_mean_squared_error      0.12  0.08  0.07  0.07  \n",
       "normalized_root_mean_squared_log_error  0.11  0.08  0.07  0.08  \n",
       "r2_score                                0.50  0.79  0.83  0.81  \n",
       "root_mean_squared_error                 4.96  3.36  2.96  3.13  \n",
       "root_mean_squared_log_error             0.21  0.14  0.13  0.14  \n",
       "spearman_correlation                    0.80  0.88  0.93  0.93  "
      ]
     },
     "execution_count": 11,
     "metadata": {},
     "output_type": "execute_result"
    }
   ],
   "source": [
    "children = list(run.get_children())\n",
    "metricslist = {}\n",
    "for r in children:\n",
    "    properties = r.get_properties()\n",
    "    metrics = {k: v for k, v in r.get_metrics().items() if isinstance(v, float)}\n",
    "    metricslist[int(properties['iteration'])] = metrics\n",
    "\n",
    "rundata = pd.DataFrame(metricslist).sort_index(1)\n",
    "rundata"
   ]
  },
  {
   "cell_type": "markdown",
   "metadata": {},
   "source": [
    "### Retrieve the Best Model\n",
    "\n",
    "Below we select the best pipeline from our iterations. The `get_output` method returns the best run and the fitted model. The Model includes the pipeline and any pre-processing.  Overloads on `get_output` allow you to retrieve the best run and fitted model for *any* logged metric or for a particular *iteration*."
   ]
  },
  {
   "cell_type": "code",
   "execution_count": 13,
   "metadata": {},
   "outputs": [
    {
     "name": "stdout",
     "output_type": "stream",
     "text": [
      "Run(Experiment: house_prices_regression,\n",
      "Id: AutoML_09a5a593-af18-405d-b0e7-6c5c2b2e3578_8,\n",
      "Type: None,\n",
      "Status: Completed)\n",
      "----------------------------\n",
      "RegressionPipeline(pipeline=Pipeline(memory=None,\n",
      "     steps=[('prefittedsoftvotingregressor', PreFittedSoftVotingRegressor(estimators=[('4', RegressionPipeline(pipeline=Pipeline(memory=None,\n",
      "     steps=[('StandardScalerWrapper', <automl.client.core.common.model_wrappers.StandardScalerWrapper object at 0x00000210BBB795C0>), ('LightGBMRegressor', LightGB...3333333333333333, 0.1111111111111111, 0.1111111111111111, 0.3333333333333333, 0.1111111111111111]))]),\n",
      "          stddev=None)\n"
     ]
    }
   ],
   "source": [
    "best_run, fitted_model = run.get_output()\n",
    "print(best_run)\n",
    "print(\"----------------------------\")\n",
    "print(fitted_model)"
   ]
  },
  {
   "cell_type": "markdown",
   "metadata": {},
   "source": [
    "#### Best Model Based on Any Other Metric\n",
    "Show the run and the model that has the smallest `root_mean_squared_error` value (which turned out to be the same as the one with largest `spearman_correlation` value):"
   ]
  },
  {
   "cell_type": "code",
   "execution_count": 14,
   "metadata": {},
   "outputs": [
    {
     "name": "stdout",
     "output_type": "stream",
     "text": [
      "Run(Experiment: house_prices_regression,\n",
      "Id: AutoML_09a5a593-af18-405d-b0e7-6c5c2b2e3578_8,\n",
      "Type: None,\n",
      "Status: Completed)\n",
      "----------------------------\n",
      "RegressionPipeline(pipeline=Pipeline(memory=None,\n",
      "     steps=[('prefittedsoftvotingregressor', PreFittedSoftVotingRegressor(estimators=[('4', RegressionPipeline(pipeline=Pipeline(memory=None,\n",
      "     steps=[('StandardScalerWrapper', <automl.client.core.common.model_wrappers.StandardScalerWrapper object at 0x00000210BBBB4EF0>), ('LightGBMRegressor', LightGB...3333333333333333, 0.1111111111111111, 0.1111111111111111, 0.3333333333333333, 0.1111111111111111]))]),\n",
      "          stddev=None)\n"
     ]
    }
   ],
   "source": [
    "lookup_metric = \"spearman_correlation\"\n",
    "best_run, fitted_model = run.get_output(metric = lookup_metric)\n",
    "print(best_run)\n",
    "print(\"----------------------------\")\n",
    "print(fitted_model)"
   ]
  },
  {
   "cell_type": "markdown",
   "metadata": {},
   "source": [
    "#### Model from a Specific Iteration\n",
    "Show the run and the model from the third iteration:"
   ]
  },
  {
   "cell_type": "code",
   "execution_count": 15,
   "metadata": {},
   "outputs": [
    {
     "name": "stdout",
     "output_type": "stream",
     "text": [
      "Run(Experiment: house_prices_regression,\n",
      "Id: AutoML_09a5a593-af18-405d-b0e7-6c5c2b2e3578_3,\n",
      "Type: None,\n",
      "Status: Completed)\n",
      "----------------------------\n",
      "RegressionPipeline(pipeline=Pipeline(memory=None,\n",
      "     steps=[('StandardScalerWrapper', <automl.client.core.common.model_wrappers.StandardScalerWrapper object at 0x00000210BBB64208>), ('RandomForestRegressor', RandomForestRegressor(bootstrap=True, criterion='mse', max_depth=None,\n",
      "           max_features='log2', max_leaf_nodes=None,\n",
      "           min_impuri...timators=25, n_jobs=1,\n",
      "           oob_score=False, random_state=None, verbose=0, warm_start=False))]),\n",
      "          stddev=None)\n"
     ]
    }
   ],
   "source": [
    "iteration = 3\n",
    "third_run, third_model = run.get_output(iteration = iteration)\n",
    "print(third_run)\n",
    "print(\"----------------------------\")\n",
    "print(third_model)"
   ]
  },
  {
   "cell_type": "markdown",
   "metadata": {},
   "source": [
    "## Test"
   ]
  },
  {
   "cell_type": "markdown",
   "metadata": {},
   "source": [
    "Predict on training and test set, and calculate residual values."
   ]
  },
  {
   "cell_type": "code",
   "execution_count": 16,
   "metadata": {},
   "outputs": [],
   "source": [
    "X_train_pd = X_train.to_pandas_dataframe()\n",
    "y_train_pd = y_train.to_pandas_dataframe().squeeze()\n",
    "X_test_pd = X_test.to_pandas_dataframe()\n",
    "y_test_pd = y_test.to_pandas_dataframe().squeeze()\n",
    "\n",
    "y_pred_train = fitted_model.predict(X_train_pd)\n",
    "y_residual_train = y_train_pd - y_pred_train\n",
    "\n",
    "y_pred_test = fitted_model.predict(X_test_pd)\n",
    "y_residual_test = y_test_pd - y_pred_test"
   ]
  },
  {
   "cell_type": "code",
   "execution_count": 17,
   "metadata": {},
   "outputs": [
    {
     "data": {
      "image/png": "[encoded data removed]",
      "text/plain": [
       "<Figure size 1152x432 with 2 Axes>"
      ]
     },
     "metadata": {
      "needs_background": "light"
     },
     "output_type": "display_data"
    }
   ],
   "source": [
    "%matplotlib inline\n",
    "from sklearn.metrics import mean_squared_error, r2_score\n",
    "\n",
    "# Set up a multi-plot chart.\n",
    "f, (a0, a1) = plt.subplots(1, 2, gridspec_kw = {'width_ratios':[1, 1], 'wspace':0, 'hspace': 0})\n",
    "f.suptitle('Regression Residual Values', fontsize = 18)\n",
    "f.set_figheight(6)\n",
    "f.set_figwidth(16)\n",
    "\n",
    "# Plot residual values of training set.\n",
    "a0.axis([0, 360, -200, 200])\n",
    "a0.plot(y_residual_train, 'bo', alpha = 0.5)\n",
    "a0.plot([-10,360],[0,0], 'r-', lw = 3)\n",
    "a0.text(16,170,'RMSE = {0:.2f}'.format(np.sqrt(mean_squared_error(y_train_pd, y_pred_train))), fontsize = 12)\n",
    "a0.text(16,140,'R2 score = {0:.2f}'.format(r2_score(y_train_pd, y_pred_train)), fontsize = 12)\n",
    "a0.set_xlabel('Training samples', fontsize = 12)\n",
    "a0.set_ylabel('Residual Values', fontsize = 12)\n",
    "\n",
    "# Plot a histogram.\n",
    "a0.hist(y_residual_train, orientation = 'horizontal', color = 'b', bins = 10, histtype = 'step')\n",
    "a0.hist(y_residual_train, orientation = 'horizontal', color = 'b', alpha = 0.2, bins = 10)\n",
    "\n",
    "# Plot residual values of test set.\n",
    "a1.axis([0, 90, -200, 200])\n",
    "a1.plot(y_residual_test, 'bo', alpha = 0.5)\n",
    "a1.plot([-10,360],[0,0], 'r-', lw = 3)\n",
    "a1.text(5,170,'RMSE = {0:.2f}'.format(np.sqrt(mean_squared_error(y_test_pd, y_pred_test))), fontsize = 12)\n",
    "a1.text(5,140,'R2 score = {0:.2f}'.format(r2_score(y_test_pd, y_pred_test)), fontsize = 12)\n",
    "a1.set_xlabel('Test samples', fontsize = 12)\n",
    "a1.set_yticklabels([])\n",
    "\n",
    "# Plot a histogram.\n",
    "a1.hist(y_residual_test, orientation = 'horizontal', color = 'b', bins = 10, histtype = 'step')\n",
    "a1.hist(y_residual_test, orientation = 'horizontal', color = 'b', alpha = 0.2, bins = 10)\n",
    "\n",
    "plt.show()"
   ]
  },
  {
   "cell_type": "code",
   "execution_count": 18,
   "metadata": {},
   "outputs": [],
   "source": [
    "all_rmse = {}\n",
    "for ite in range(aml_config['iterations']):\n",
    "    i_run, model = run.get_output(iteration = ite)\n",
    "    y_pred_test = model.predict(X_test_pd)\n",
    "    all_rmse[ite] = np.sqrt(mean_squared_error(y_test_pd, y_pred_test))"
   ]
  },
  {
   "cell_type": "code",
   "execution_count": 19,
   "metadata": {},
   "outputs": [
    {
     "data": {
      "text/plain": [
       "{0: 6.064030259958559,\n",
       " 1: 5.984815647740433,\n",
       " 2: 5.46177975902496,\n",
       " 3: 6.12410911357629,\n",
       " 4: 5.756417944463689,\n",
       " 5: 5.31859770812225,\n",
       " 6: 7.360652958667145,\n",
       " 7: 5.63576205565765,\n",
       " 8: 5.560681814172822,\n",
       " 9: 5.38547583742528}"
      ]
     },
     "execution_count": 19,
     "metadata": {},
     "output_type": "execute_result"
    }
   ],
   "source": [
    "all_rmse"
   ]
  },
  {
   "cell_type": "code",
   "execution_count": 21,
   "metadata": {},
   "outputs": [
    {
     "name": "stdout",
     "output_type": "stream",
     "text": [
      "Best iteration is number 5\n",
      "Run(Experiment: house_prices_regression,\n",
      "Id: AutoML_09a5a593-af18-405d-b0e7-6c5c2b2e3578_5,\n",
      "Type: None,\n",
      "Status: Completed)\n",
      "['outputs/conda_env_v_1_0_0.yml', 'outputs/env_dependencies.json', 'outputs/internal_cross_validated_models.pkl', 'outputs/model.pkl', 'outputs/scoring_file_v_1_0_0.py', 'predicted_true', 'residuals']\n",
      "--------------\n",
      "RegressionPipeline(pipeline=Pipeline(memory=None,\n",
      "     steps=[('StandardScalerWrapper', <automl.client.core.common.model_wrappers.StandardScalerWrapper object at 0x00000210BDDD8860>), ('LassoLars', LassoLars(alpha=0.001, copy_X=True, eps=2.220446049250313e-16,\n",
      "     fit_intercept=True, fit_path=True, max_iter=500, normalize=True,\n",
      "     positive=False, precompute='auto', verbose=False))]),\n",
      "          stddev=None)\n"
     ]
    }
   ],
   "source": [
    "best_iteration = sorted(all_rmse, key=all_rmse.get, reverse=False)[0]\n",
    "print(f'Best iteration is number {best_iteration}')\n",
    "print(\"--------------\")\n",
    "best_test_run, best_test_model = run.get_output(iteration = best_iteration)\n",
    "print(best_test_run)\n",
    "print(best_test_run.get_file_names())\n",
    "print(\"--------------\")\n",
    "print(best_test_model)\n",
    "# print(best_test_model.get_model_path())"
   ]
  },
  {
   "cell_type": "code",
   "execution_count": 22,
   "metadata": {},
   "outputs": [],
   "source": [
    "dependencies = run.get_run_sdk_dependencies(iteration = best_iteration)"
   ]
  },
  {
   "cell_type": "code",
   "execution_count": 23,
   "metadata": {},
   "outputs": [
    {
     "name": "stdout",
     "output_type": "stream",
     "text": [
      "azureml-train-automl\t1.0.57\n",
      "azureml-core\t1.0.57.1\n"
     ]
    }
   ],
   "source": [
    "for p in ['azureml-train-automl', 'azureml-core']:\n",
    "    print('{}\\t{}'.format(p, dependencies[p]))"
   ]
  },
  {
   "cell_type": "code",
   "execution_count": 24,
   "metadata": {},
   "outputs": [
    {
     "data": {
      "text/plain": [
       "'conda_dependencies.yml'"
      ]
     },
     "execution_count": 24,
     "metadata": {},
     "output_type": "execute_result"
    }
   ],
   "source": [
    "myenv = CondaDependencies.create(conda_packages=['numpy','scikit-learn','py-xgboost==0.80'], pip_packages=['azureml-train-automl'])\n",
    "\n",
    "conda_env_file_name = 'conda_dependencies.yml'\n",
    "myenv.save_to_file('.', conda_env_file_name)"
   ]
  },
  {
   "cell_type": "markdown",
   "metadata": {},
   "source": [
    "## Register model (and commit code pieces first)\n",
    "Since the Release is triggered from a new version of the model, that is done last."
   ]
  },
  {
   "cell_type": "code",
   "execution_count": 46,
   "metadata": {},
   "outputs": [
    {
     "name": "stdout",
     "output_type": "stream",
     "text": [
      "No changes to commit.\n"
     ]
    }
   ],
   "source": [
    "changes = !git diff\n",
    "if len(changes) > 0:\n",
    "    print(\"Changes to commit. Committing and pushing now\")\n",
    "    !git commit -am \"Commit from NB\"\n",
    "    !git push    \n",
    "else:\n",
    "    print(\"No changes to commit.\")"
   ]
  },
  {
   "cell_type": "code",
   "execution_count": 25,
   "metadata": {},
   "outputs": [
    {
     "name": "stdout",
     "output_type": "stream",
     "text": [
      "house_prices_regression\thouse_prices_regression:3\t3\n"
     ]
    }
   ],
   "source": [
    "name = \"house_prices_regression\"\n",
    "deploy = True\n",
    "\n",
    "# best_test_model.register(ws, )\n",
    "model = best_test_run.register_model(name, model_path='outputs/model.pkl')\n",
    "print(model.name, model.id, model.version, sep='\\t')"
   ]
  },
  {
   "cell_type": "code",
   "execution_count": null,
   "metadata": {},
   "outputs": [],
   "source": []
  }
 ],
 "metadata": {
  "authors": [
   {
    "name": "savitam"
   }
  ],
  "kernelspec": {
   "display_name": "Python 3",
   "language": "python",
   "name": "python3"
  },
  "language_info": {
   "codemirror_mode": {
    "name": "ipython",
    "version": 3
   },
   "file_extension": ".py",
   "mimetype": "text/x-python",
   "name": "python",
   "nbconvert_exporter": "python",
   "pygments_lexer": "ipython3",
   "version": "3.7.3"
  }
 },
 "nbformat": 4,
 "nbformat_minor": 2
}
