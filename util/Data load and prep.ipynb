{
 "cells": [
  {
   "cell_type": "code",
   "execution_count": 4,
   "metadata": {},
   "outputs": [],
   "source": [
    "import logging\n",
    "\n",
    "from matplotlib import pyplot as plt\n",
    "import numpy as np\n",
    "import pandas as pd\n",
    "\n",
    "import azureml.core\n",
    "from azureml.core.experiment import Experiment\n",
    "from azureml.core.workspace import Workspace\n",
    "from azureml.train.automl import AutoMLConfig\n",
    "from azureml.core.datastore import Datastore\n",
    "from azureml.core.dataset import Dataset\n",
    "\n",
    "from sklearn import datasets"
   ]
  },
  {
   "cell_type": "code",
   "execution_count": 5,
   "metadata": {},
   "outputs": [],
   "source": [
    "ws = Workspace.from_config()"
   ]
  },
  {
   "cell_type": "code",
   "execution_count": 6,
   "metadata": {},
   "outputs": [],
   "source": [
    "datastores = ws.datastores"
   ]
  },
  {
   "cell_type": "code",
   "execution_count": 7,
   "metadata": {},
   "outputs": [],
   "source": [
    "datastore_name = 'edvanstorage__azureml'\n",
    "dataset_path = 'boston_houses/'\n",
    "datastore = Datastore.get(ws, datastore_name=datastore_name)"
   ]
  },
  {
   "cell_type": "code",
   "execution_count": 8,
   "metadata": {},
   "outputs": [],
   "source": [
    "boston = datasets.load_boston()"
   ]
  },
  {
   "cell_type": "code",
   "execution_count": 9,
   "metadata": {},
   "outputs": [
    {
     "data": {
      "text/plain": [
       "array(['CRIM', 'ZN', 'INDUS', 'CHAS', 'NOX', 'RM', 'AGE', 'DIS', 'RAD',\n",
       "       'TAX', 'PTRATIO', 'B', 'LSTAT'], dtype='<U7')"
      ]
     },
     "execution_count": 9,
     "metadata": {},
     "output_type": "execute_result"
    }
   ],
   "source": [
    "boston.feature_names"
   ]
  },
  {
   "cell_type": "code",
   "execution_count": 10,
   "metadata": {},
   "outputs": [
    {
     "data": {
      "text/html": [
       "<div>\n",
       "<style scoped>\n",
       "    .dataframe tbody tr th:only-of-type {\n",
       "        vertical-align: middle;\n",
       "    }\n",
       "\n",
       "    .dataframe tbody tr th {\n",
       "        vertical-align: top;\n",
       "    }\n",
       "\n",
       "    .dataframe thead th {\n",
       "        text-align: right;\n",
       "    }\n",
       "</style>\n",
       "<table border=\"1\" class=\"dataframe\">\n",
       "  <thead>\n",
       "    <tr style=\"text-align: right;\">\n",
       "      <th></th>\n",
       "      <th>CrimeRate</th>\n",
       "      <th>ResidentialZoning</th>\n",
       "      <th>IndustrialZoning</th>\n",
       "      <th>OnRiver</th>\n",
       "      <th>NOXConcentration</th>\n",
       "      <th>NumberOfRooms</th>\n",
       "      <th>PreWarHouses</th>\n",
       "      <th>DistanceToEmployment</th>\n",
       "      <th>DistanceToHighways</th>\n",
       "      <th>PropertyTaxRate</th>\n",
       "      <th>ParentTeachRatio</th>\n",
       "      <th>ProportionAA</th>\n",
       "      <th>LowerStatusProportion</th>\n",
       "      <th>Price</th>\n",
       "    </tr>\n",
       "  </thead>\n",
       "  <tbody>\n",
       "    <tr>\n",
       "      <th>0</th>\n",
       "      <td>0.01</td>\n",
       "      <td>18.00</td>\n",
       "      <td>2.31</td>\n",
       "      <td>0.00</td>\n",
       "      <td>0.54</td>\n",
       "      <td>6.58</td>\n",
       "      <td>65.20</td>\n",
       "      <td>4.09</td>\n",
       "      <td>1.00</td>\n",
       "      <td>296.00</td>\n",
       "      <td>15.30</td>\n",
       "      <td>396.90</td>\n",
       "      <td>4.98</td>\n",
       "      <td>24.00</td>\n",
       "    </tr>\n",
       "    <tr>\n",
       "      <th>1</th>\n",
       "      <td>0.03</td>\n",
       "      <td>0.00</td>\n",
       "      <td>7.07</td>\n",
       "      <td>0.00</td>\n",
       "      <td>0.47</td>\n",
       "      <td>6.42</td>\n",
       "      <td>78.90</td>\n",
       "      <td>4.97</td>\n",
       "      <td>2.00</td>\n",
       "      <td>242.00</td>\n",
       "      <td>17.80</td>\n",
       "      <td>396.90</td>\n",
       "      <td>9.14</td>\n",
       "      <td>21.60</td>\n",
       "    </tr>\n",
       "    <tr>\n",
       "      <th>2</th>\n",
       "      <td>0.03</td>\n",
       "      <td>0.00</td>\n",
       "      <td>7.07</td>\n",
       "      <td>0.00</td>\n",
       "      <td>0.47</td>\n",
       "      <td>7.18</td>\n",
       "      <td>61.10</td>\n",
       "      <td>4.97</td>\n",
       "      <td>2.00</td>\n",
       "      <td>242.00</td>\n",
       "      <td>17.80</td>\n",
       "      <td>392.83</td>\n",
       "      <td>4.03</td>\n",
       "      <td>34.70</td>\n",
       "    </tr>\n",
       "    <tr>\n",
       "      <th>3</th>\n",
       "      <td>0.03</td>\n",
       "      <td>0.00</td>\n",
       "      <td>2.18</td>\n",
       "      <td>0.00</td>\n",
       "      <td>0.46</td>\n",
       "      <td>7.00</td>\n",
       "      <td>45.80</td>\n",
       "      <td>6.06</td>\n",
       "      <td>3.00</td>\n",
       "      <td>222.00</td>\n",
       "      <td>18.70</td>\n",
       "      <td>394.63</td>\n",
       "      <td>2.94</td>\n",
       "      <td>33.40</td>\n",
       "    </tr>\n",
       "    <tr>\n",
       "      <th>4</th>\n",
       "      <td>0.07</td>\n",
       "      <td>0.00</td>\n",
       "      <td>2.18</td>\n",
       "      <td>0.00</td>\n",
       "      <td>0.46</td>\n",
       "      <td>7.15</td>\n",
       "      <td>54.20</td>\n",
       "      <td>6.06</td>\n",
       "      <td>3.00</td>\n",
       "      <td>222.00</td>\n",
       "      <td>18.70</td>\n",
       "      <td>396.90</td>\n",
       "      <td>5.33</td>\n",
       "      <td>36.20</td>\n",
       "    </tr>\n",
       "  </tbody>\n",
       "</table>\n",
       "</div>"
      ],
      "text/plain": [
       "   CrimeRate  ResidentialZoning  IndustrialZoning  OnRiver  NOXConcentration  \\\n",
       "0       0.01              18.00              2.31     0.00              0.54   \n",
       "1       0.03               0.00              7.07     0.00              0.47   \n",
       "2       0.03               0.00              7.07     0.00              0.47   \n",
       "3       0.03               0.00              2.18     0.00              0.46   \n",
       "4       0.07               0.00              2.18     0.00              0.46   \n",
       "\n",
       "   NumberOfRooms  PreWarHouses  DistanceToEmployment  DistanceToHighways  \\\n",
       "0           6.58         65.20                  4.09                1.00   \n",
       "1           6.42         78.90                  4.97                2.00   \n",
       "2           7.18         61.10                  4.97                2.00   \n",
       "3           7.00         45.80                  6.06                3.00   \n",
       "4           7.15         54.20                  6.06                3.00   \n",
       "\n",
       "   PropertyTaxRate  ParentTeachRatio  ProportionAA  LowerStatusProportion  \\\n",
       "0           296.00             15.30        396.90                   4.98   \n",
       "1           242.00             17.80        396.90                   9.14   \n",
       "2           242.00             17.80        392.83                   4.03   \n",
       "3           222.00             18.70        394.63                   2.94   \n",
       "4           222.00             18.70        396.90                   5.33   \n",
       "\n",
       "   Price  \n",
       "0  24.00  \n",
       "1  21.60  \n",
       "2  34.70  \n",
       "3  33.40  \n",
       "4  36.20  "
      ]
     },
     "execution_count": 10,
     "metadata": {},
     "output_type": "execute_result"
    }
   ],
   "source": [
    "bos = pd.DataFrame(boston.data)\n",
    "bos.columns = ['CrimeRate', 'ResidentialZoning', 'IndustrialZoning', 'OnRiver', 'NOXConcentration', 'NumberOfRooms', 'PreWarHouses', 'DistanceToEmployment', 'DistanceToHighways','PropertyTaxRate', 'ParentTeachRatio', 'ProportionAA', 'LowerStatusProportion']\n",
    "bos['Price'] = boston.target\n",
    "bos.head(5)"
   ]
  },
  {
   "cell_type": "code",
   "execution_count": 23,
   "metadata": {},
   "outputs": [],
   "source": [
    "local_path = 'data/boston_data.csv'\n",
    "bos.to_csv(path_or_buf=local_path)"
   ]
  },
  {
   "cell_type": "code",
   "execution_count": 24,
   "metadata": {},
   "outputs": [
    {
     "name": "stdout",
     "output_type": "stream",
     "text": [
      "Uploading an estimated of 1 files\n",
      "Uploading data/boston_data.csv\n",
      "Uploaded data/boston_data.csv, 1 files out of an estimated total of 1\n",
      "Uploaded 1 files\n"
     ]
    },
    {
     "data": {
      "text/plain": [
       "$AZUREML_DATAREFERENCE_60c0892f1c864efcbf19dacdcaa5f97e"
      ]
     },
     "execution_count": 24,
     "metadata": {},
     "output_type": "execute_result"
    }
   ],
   "source": [
    "datastore.upload(src_dir='data',\n",
    "                 target_path=dataset_path,\n",
    "                 overwrite=True,\n",
    "                 show_progress=True)"
   ]
  },
  {
   "cell_type": "markdown",
   "metadata": {},
   "source": [
    "## Upgrade AzureML\n"
   ]
  },
  {
   "cell_type": "code",
   "execution_count": 29,
   "metadata": {},
   "outputs": [
    {
     "name": "stdout",
     "output_type": "stream",
     "text": [
      "Requirement already up-to-date: azureml-sdk[automl] in /data/anaconda/envs/py36/lib/python3.6/site-packages (1.0.57)\n",
      "Requirement already satisfied, skipping upgrade: azureml-pipeline==1.0.57.* in /data/anaconda/envs/py36/lib/python3.6/site-packages (from azureml-sdk[automl]) (1.0.57)\n",
      "Requirement already satisfied, skipping upgrade: azureml-train==1.0.57.* in /data/anaconda/envs/py36/lib/python3.6/site-packages (from azureml-sdk[automl]) (1.0.57)\n",
      "Requirement already satisfied, skipping upgrade: azureml-dataprep<1.2.0a,>=1.1.10a in /data/anaconda/envs/py36/lib/python3.6/site-packages (from azureml-sdk[automl]) (1.1.12)\n",
      "Requirement already satisfied, skipping upgrade: azureml-core==1.0.57.* in /data/anaconda/envs/py36/lib/python3.6/site-packages (from azureml-sdk[automl]) (1.0.57)\n",
      "Requirement already satisfied, skipping upgrade: azureml-train-automl==1.0.57.*; extra == \"automl\" in /data/anaconda/envs/py36/lib/python3.6/site-packages (from azureml-sdk[automl]) (1.0.57)\n",
      "Requirement already satisfied, skipping upgrade: azureml-pipeline-steps==1.0.57.* in /data/anaconda/envs/py36/lib/python3.6/site-packages (from azureml-pipeline==1.0.57.*->azureml-sdk[automl]) (1.0.57)\n",
      "Requirement already satisfied, skipping upgrade: azureml-pipeline-core==1.0.57.* in /data/anaconda/envs/py36/lib/python3.6/site-packages (from azureml-pipeline==1.0.57.*->azureml-sdk[automl]) (1.0.57)\n",
      "Requirement already satisfied, skipping upgrade: azureml-train-core==1.0.57.* in /data/anaconda/envs/py36/lib/python3.6/site-packages (from azureml-train==1.0.57.*->azureml-sdk[automl]) (1.0.57)\n",
      "Requirement already satisfied, skipping upgrade: azureml-dataprep-native<14.0.0,>=13.0.2 in /data/anaconda/envs/py36/lib/python3.6/site-packages (from azureml-dataprep<1.2.0a,>=1.1.10a->azureml-sdk[automl]) (13.0.2)\n",
      "Requirement already satisfied, skipping upgrade: dotnetcore2==2.1.8 in /data/anaconda/envs/py36/lib/python3.6/site-packages (from azureml-dataprep<1.2.0a,>=1.1.10a->azureml-sdk[automl]) (2.1.8)\n",
      "Requirement already satisfied, skipping upgrade: cloudpickle>=1.1.0 in /data/anaconda/envs/py36/lib/python3.6/site-packages (from azureml-dataprep<1.2.0a,>=1.1.10a->azureml-sdk[automl]) (1.2.1)\n",
      "Requirement already satisfied, skipping upgrade: azure-mgmt-authorization>=0.40.0 in /data/anaconda/envs/py36/lib/python3.6/site-packages (from azureml-core==1.0.57.*->azureml-sdk[automl]) (0.51.1)\n",
      "Requirement already satisfied, skipping upgrade: SecretStorage in /data/anaconda/envs/py36/lib/python3.6/site-packages (from azureml-core==1.0.57.*->azureml-sdk[automl]) (3.1.1)\n",
      "Requirement already satisfied, skipping upgrade: jmespath in /data/anaconda/envs/py36/lib/python3.6/site-packages (from azureml-core==1.0.57.*->azureml-sdk[automl]) (0.9.4)\n",
      "Requirement already satisfied, skipping upgrade: ndg-httpsclient in /data/anaconda/envs/py36/lib/python3.6/site-packages (from azureml-core==1.0.57.*->azureml-sdk[automl]) (0.5.1)\n",
      "Requirement already satisfied, skipping upgrade: python-dateutil>=2.7.3 in /data/anaconda/envs/py36/lib/python3.6/site-packages (from azureml-core==1.0.57.*->azureml-sdk[automl]) (2.8.0)\n",
      "Requirement already satisfied, skipping upgrade: azure-common>=1.1.12 in /data/anaconda/envs/py36/lib/python3.6/site-packages (from azureml-core==1.0.57.*->azureml-sdk[automl]) (1.1.20)\n",
      "Requirement already satisfied, skipping upgrade: azure-mgmt-containerregistry>=2.0.0 in /data/anaconda/envs/py36/lib/python3.6/site-packages (from azureml-core==1.0.57.*->azureml-sdk[automl]) (2.8.0)\n",
      "Requirement already satisfied, skipping upgrade: jsonpickle in /data/anaconda/envs/py36/lib/python3.6/site-packages (from azureml-core==1.0.57.*->azureml-sdk[automl]) (1.1)\n",
      "Requirement already satisfied, skipping upgrade: pathspec in /data/anaconda/envs/py36/lib/python3.6/site-packages (from azureml-core==1.0.57.*->azureml-sdk[automl]) (0.5.9)\n",
      "Requirement already satisfied, skipping upgrade: azure-mgmt-storage>=1.5.0 in /data/anaconda/envs/py36/lib/python3.6/site-packages (from azureml-core==1.0.57.*->azureml-sdk[automl]) (3.3.0)\n",
      "Requirement already satisfied, skipping upgrade: pyopenssl in /data/anaconda/envs/py36/lib/python3.6/site-packages (from azureml-core==1.0.57.*->azureml-sdk[automl]) (19.0.0)\n",
      "Requirement already satisfied, skipping upgrade: contextlib2 in /data/anaconda/envs/py36/lib/python3.6/site-packages (from azureml-core==1.0.57.*->azureml-sdk[automl]) (0.5.5)\n",
      "Requirement already satisfied, skipping upgrade: msrest>=0.5.1 in /data/anaconda/envs/py36/lib/python3.6/site-packages (from azureml-core==1.0.57.*->azureml-sdk[automl]) (0.6.6)\n",
      "Requirement already satisfied, skipping upgrade: six>=1.11.0 in /data/anaconda/envs/py36/lib/python3.6/site-packages (from azureml-core==1.0.57.*->azureml-sdk[automl]) (1.12.0)\n",
      "Requirement already satisfied, skipping upgrade: docker in /data/anaconda/envs/py36/lib/python3.6/site-packages (from azureml-core==1.0.57.*->azureml-sdk[automl]) (3.7.2)\n",
      "Requirement already satisfied, skipping upgrade: backports.tempfile in /data/anaconda/envs/py36/lib/python3.6/site-packages (from azureml-core==1.0.57.*->azureml-sdk[automl]) (1.0)\n",
      "Requirement already satisfied, skipping upgrade: azure-mgmt-keyvault>=0.40.0 in /data/anaconda/envs/py36/lib/python3.6/site-packages (from azureml-core==1.0.57.*->azureml-sdk[automl]) (1.1.0)\n",
      "Requirement already satisfied, skipping upgrade: ruamel.yaml<=0.15.89,>=0.15.35 in /data/anaconda/envs/py36/lib/python3.6/site-packages (from azureml-core==1.0.57.*->azureml-sdk[automl]) (0.15.89)\n",
      "Requirement already satisfied, skipping upgrade: azure-mgmt-resource>=1.2.1 in /data/anaconda/envs/py36/lib/python3.6/site-packages (from azureml-core==1.0.57.*->azureml-sdk[automl]) (2.1.0)\n",
      "Requirement already satisfied, skipping upgrade: urllib3>=1.23 in /data/anaconda/envs/py36/lib/python3.6/site-packages (from azureml-core==1.0.57.*->azureml-sdk[automl]) (1.25.2)\n",
      "Requirement already satisfied, skipping upgrade: requests>=2.19.1 in /data/anaconda/envs/py36/lib/python3.6/site-packages (from azureml-core==1.0.57.*->azureml-sdk[automl]) (2.22.0)\n",
      "Requirement already satisfied, skipping upgrade: adal>=1.2.0 in /data/anaconda/envs/py36/lib/python3.6/site-packages (from azureml-core==1.0.57.*->azureml-sdk[automl]) (1.2.1)\n",
      "Requirement already satisfied, skipping upgrade: msrestazure>=0.4.33 in /data/anaconda/envs/py36/lib/python3.6/site-packages (from azureml-core==1.0.57.*->azureml-sdk[automl]) (0.6.0)\n",
      "Requirement already satisfied, skipping upgrade: azure-graphrbac>=0.40.0 in /data/anaconda/envs/py36/lib/python3.6/site-packages (from azureml-core==1.0.57.*->azureml-sdk[automl]) (0.61.0)\n",
      "Requirement already satisfied, skipping upgrade: PyJWT in /data/anaconda/envs/py36/lib/python3.6/site-packages (from azureml-core==1.0.57.*->azureml-sdk[automl]) (1.7.1)\n",
      "Requirement already satisfied, skipping upgrade: pytz in /data/anaconda/envs/py36/lib/python3.6/site-packages (from azureml-core==1.0.57.*->azureml-sdk[automl]) (2019.1)\n",
      "Requirement already satisfied, skipping upgrade: cryptography!=1.9,!=2.0.*,!=2.1.*,!=2.2.* in /data/anaconda/envs/py36/lib/python3.6/site-packages (from azureml-core==1.0.57.*->azureml-sdk[automl]) (2.6.1)\n",
      "Requirement already satisfied, skipping upgrade: azureml-telemetry==1.0.57.* in /data/anaconda/envs/py36/lib/python3.6/site-packages (from azureml-train-automl==1.0.57.*; extra == \"automl\"->azureml-sdk[automl]) (1.0.57)\n",
      "Requirement already satisfied, skipping upgrade: pandas<=0.23.4,>=0.21.0 in /data/anaconda/envs/py36/lib/python3.6/site-packages (from azureml-train-automl==1.0.57.*; extra == \"automl\"->azureml-sdk[automl]) (0.23.4)\n",
      "Requirement already satisfied, skipping upgrade: azureml-automl-core==1.0.57.* in /data/anaconda/envs/py36/lib/python3.6/site-packages (from azureml-train-automl==1.0.57.*; extra == \"automl\"->azureml-sdk[automl]) (1.0.57)\n",
      "Requirement already satisfied, skipping upgrade: lightgbm<=2.2.3,>=2.0.11 in /data/anaconda/envs/py36/lib/python3.6/site-packages (from azureml-train-automl==1.0.57.*; extra == \"automl\"->azureml-sdk[automl]) (2.2.1)\n",
      "Requirement already satisfied, skipping upgrade: numpy<=1.16.2,>=1.11.0 in /data/anaconda/envs/py36/lib/python3.6/site-packages (from azureml-train-automl==1.0.57.*; extra == \"automl\"->azureml-sdk[automl]) (1.16.2)\n",
      "Requirement already satisfied, skipping upgrade: resource>=0.1.8 in /data/anaconda/envs/py36/lib/python3.6/site-packages (from azureml-train-automl==1.0.57.*; extra == \"automl\"->azureml-sdk[automl]) (0.2.1)\n",
      "Requirement already satisfied, skipping upgrade: skl2onnx==1.4.9 in /data/anaconda/envs/py36/lib/python3.6/site-packages (from azureml-train-automl==1.0.57.*; extra == \"automl\"->azureml-sdk[automl]) (1.4.9)\n",
      "Requirement already satisfied, skipping upgrade: wheel==0.30.0 in /data/anaconda/envs/py36/lib/python3.6/site-packages (from azureml-train-automl==1.0.57.*; extra == \"automl\"->azureml-sdk[automl]) (0.30.0)\n"
     ]
    },
    {
     "name": "stdout",
     "output_type": "stream",
     "text": [
      "Requirement already satisfied, skipping upgrade: gensim in /data/anaconda/envs/py36/lib/python3.6/site-packages (from azureml-train-automl==1.0.57.*; extra == \"automl\"->azureml-sdk[automl]) (3.7.2)\n",
      "Requirement already satisfied, skipping upgrade: onnxconverter-common>=1.4.2 in /data/anaconda/envs/py36/lib/python3.6/site-packages (from azureml-train-automl==1.0.57.*; extra == \"automl\"->azureml-sdk[automl]) (1.5.0)\n",
      "Requirement already satisfied, skipping upgrade: onnx>=1.5.0 in /data/anaconda/envs/py36/lib/python3.6/site-packages (from azureml-train-automl==1.0.57.*; extra == \"automl\"->azureml-sdk[automl]) (1.5.0)\n",
      "Requirement already satisfied, skipping upgrade: scikit-learn<=0.20.3,>=0.19.0 in /data/anaconda/envs/py36/lib/python3.6/site-packages (from azureml-train-automl==1.0.57.*; extra == \"automl\"->azureml-sdk[automl]) (0.20.3)\n",
      "Requirement already satisfied, skipping upgrade: statsmodels>=0.9.0 in /data/anaconda/envs/py36/lib/python3.6/site-packages (from azureml-train-automl==1.0.57.*; extra == \"automl\"->azureml-sdk[automl]) (0.10.0)\n",
      "Requirement already satisfied, skipping upgrade: sklearn-pandas<=1.7.0,>=1.4.0 in /data/anaconda/envs/py36/lib/python3.6/site-packages (from azureml-train-automl==1.0.57.*; extra == \"automl\"->azureml-sdk[automl]) (1.7.0)\n",
      "Requirement already satisfied, skipping upgrade: onnxmltools==1.4.1 in /data/anaconda/envs/py36/lib/python3.6/site-packages (from azureml-train-automl==1.0.57.*; extra == \"automl\"->azureml-sdk[automl]) (1.4.1)\n",
      "Requirement already satisfied, skipping upgrade: dill>=0.2.8 in /data/anaconda/envs/py36/lib/python3.6/site-packages (from azureml-train-automl==1.0.57.*; extra == \"automl\"->azureml-sdk[automl]) (0.2.9)\n",
      "Requirement already satisfied, skipping upgrade: scipy<=1.1.0,>=1.0.0 in /data/anaconda/envs/py36/lib/python3.6/site-packages (from azureml-train-automl==1.0.57.*; extra == \"automl\"->azureml-sdk[automl]) (1.1.0)\n",
      "Requirement already satisfied, skipping upgrade: patsy>=0.5.1 in /data/anaconda/envs/py36/lib/python3.6/site-packages (from azureml-train-automl==1.0.57.*; extra == \"automl\"->azureml-sdk[automl]) (0.5.1)\n",
      "Requirement already satisfied, skipping upgrade: azureml-train-restclients-hyperdrive==1.0.57.* in /data/anaconda/envs/py36/lib/python3.6/site-packages (from azureml-train-core==1.0.57.*->azureml-train==1.0.57.*->azureml-sdk[automl]) (1.0.57)\n",
      "Requirement already satisfied, skipping upgrade: distro>=1.2.0 in /data/anaconda/envs/py36/lib/python3.6/site-packages (from dotnetcore2==2.1.8->azureml-dataprep<1.2.0a,>=1.1.10a->azureml-sdk[automl]) (1.4.0)\n",
      "Requirement already satisfied, skipping upgrade: jeepney in /data/anaconda/envs/py36/lib/python3.6/site-packages (from SecretStorage->azureml-core==1.0.57.*->azureml-sdk[automl]) (0.4)\n",
      "Requirement already satisfied, skipping upgrade: pyasn1>=0.1.1 in /data/anaconda/envs/py36/lib/python3.6/site-packages (from ndg-httpsclient->azureml-core==1.0.57.*->azureml-sdk[automl]) (0.4.5)\n",
      "Requirement already satisfied, skipping upgrade: certifi>=2017.4.17 in /data/anaconda/envs/py36/lib/python3.6/site-packages (from msrest>=0.5.1->azureml-core==1.0.57.*->azureml-sdk[automl]) (2019.3.9)\n",
      "Requirement already satisfied, skipping upgrade: requests-oauthlib>=0.5.0 in /data/anaconda/envs/py36/lib/python3.6/site-packages (from msrest>=0.5.1->azureml-core==1.0.57.*->azureml-sdk[automl]) (1.2.0)\n",
      "Requirement already satisfied, skipping upgrade: isodate>=0.6.0 in /data/anaconda/envs/py36/lib/python3.6/site-packages (from msrest>=0.5.1->azureml-core==1.0.57.*->azureml-sdk[automl]) (0.6.0)\n",
      "Requirement already satisfied, skipping upgrade: docker-pycreds>=0.4.0 in /data/anaconda/envs/py36/lib/python3.6/site-packages (from docker->azureml-core==1.0.57.*->azureml-sdk[automl]) (0.4.0)\n",
      "Requirement already satisfied, skipping upgrade: websocket-client>=0.32.0 in /data/anaconda/envs/py36/lib/python3.6/site-packages (from docker->azureml-core==1.0.57.*->azureml-sdk[automl]) (0.56.0)\n",
      "Requirement already satisfied, skipping upgrade: backports.weakref in /data/anaconda/envs/py36/lib/python3.6/site-packages (from backports.tempfile->azureml-core==1.0.57.*->azureml-sdk[automl]) (1.0.post1)\n",
      "Requirement already satisfied, skipping upgrade: azure-mgmt-nspkg>=2.0.0 in /data/anaconda/envs/py36/lib/python3.6/site-packages (from azure-mgmt-keyvault>=0.40.0->azureml-core==1.0.57.*->azureml-sdk[automl]) (3.0.2)\n",
      "Requirement already satisfied, skipping upgrade: chardet<3.1.0,>=3.0.2 in /data/anaconda/envs/py36/lib/python3.6/site-packages (from requests>=2.19.1->azureml-core==1.0.57.*->azureml-sdk[automl]) (3.0.4)\n",
      "Requirement already satisfied, skipping upgrade: idna<2.9,>=2.5 in /data/anaconda/envs/py36/lib/python3.6/site-packages (from requests>=2.19.1->azureml-core==1.0.57.*->azureml-sdk[automl]) (2.8)\n",
      "Requirement already satisfied, skipping upgrade: asn1crypto>=0.21.0 in /data/anaconda/envs/py36/lib/python3.6/site-packages (from cryptography!=1.9,!=2.0.*,!=2.1.*,!=2.2.*->azureml-core==1.0.57.*->azureml-sdk[automl]) (0.24.0)\n",
      "Requirement already satisfied, skipping upgrade: cffi!=1.11.3,>=1.8 in /data/anaconda/envs/py36/lib/python3.6/site-packages (from cryptography!=1.9,!=2.0.*,!=2.1.*,!=2.2.*->azureml-core==1.0.57.*->azureml-sdk[automl]) (1.12.3)\n",
      "Requirement already satisfied, skipping upgrade: applicationinsights in /data/anaconda/envs/py36/lib/python3.6/site-packages (from azureml-telemetry==1.0.57.*->azureml-train-automl==1.0.57.*; extra == \"automl\"->azureml-sdk[automl]) (0.11.9)\n",
      "Requirement already satisfied, skipping upgrade: nimbusml>=1.3.0 in /data/anaconda/envs/py36/lib/python3.6/site-packages (from azureml-automl-core==1.0.57.*->azureml-train-automl==1.0.57.*; extra == \"automl\"->azureml-sdk[automl]) (1.3.0)\n",
      "Requirement already satisfied, skipping upgrade: pmdarima==1.1.1 in /data/anaconda/envs/py36/lib/python3.6/site-packages (from azureml-automl-core==1.0.57.*->azureml-train-automl==1.0.57.*; extra == \"automl\"->azureml-sdk[automl]) (1.1.1)\n",
      "Requirement already satisfied, skipping upgrade: JsonForm>=0.0.2 in /data/anaconda/envs/py36/lib/python3.6/site-packages (from resource>=0.1.8->azureml-train-automl==1.0.57.*; extra == \"automl\"->azureml-sdk[automl]) (0.0.2)\n",
      "Requirement already satisfied, skipping upgrade: python-easyconfig>=0.1.0 in /data/anaconda/envs/py36/lib/python3.6/site-packages (from resource>=0.1.8->azureml-train-automl==1.0.57.*; extra == \"automl\"->azureml-sdk[automl]) (0.1.7)\n",
      "Requirement already satisfied, skipping upgrade: JsonSir>=0.0.2 in /data/anaconda/envs/py36/lib/python3.6/site-packages (from resource>=0.1.8->azureml-train-automl==1.0.57.*; extra == \"automl\"->azureml-sdk[automl]) (0.0.2)\n",
      "Requirement already satisfied, skipping upgrade: protobuf in /data/anaconda/envs/py36/lib/python3.6/site-packages (from skl2onnx==1.4.9->azureml-train-automl==1.0.57.*; extra == \"automl\"->azureml-sdk[automl]) (3.7.1)\n",
      "Requirement already satisfied, skipping upgrade: smart-open>=1.7.0 in /data/anaconda/envs/py36/lib/python3.6/site-packages (from gensim->azureml-train-automl==1.0.57.*; extra == \"automl\"->azureml-sdk[automl]) (1.8.3)\n",
      "Requirement already satisfied, skipping upgrade: typing>=3.6.4 in /data/anaconda/envs/py36/lib/python3.6/site-packages (from onnx>=1.5.0->azureml-train-automl==1.0.57.*; extra == \"automl\"->azureml-sdk[automl]) (3.6.6)\n",
      "Requirement already satisfied, skipping upgrade: typing-extensions>=3.6.2.1 in /data/anaconda/envs/py36/lib/python3.6/site-packages (from onnx>=1.5.0->azureml-train-automl==1.0.57.*; extra == \"automl\"->azureml-sdk[automl]) (3.7.2)\n",
      "Requirement already satisfied, skipping upgrade: keras2onnx in /data/anaconda/envs/py36/lib/python3.6/site-packages (from onnxmltools==1.4.1->azureml-train-automl==1.0.57.*; extra == \"automl\"->azureml-sdk[automl]) (1.4.0)\n",
      "Requirement already satisfied, skipping upgrade: oauthlib>=3.0.0 in /data/anaconda/envs/py36/lib/python3.6/site-packages (from requests-oauthlib>=0.5.0->msrest>=0.5.1->azureml-core==1.0.57.*->azureml-sdk[automl]) (3.0.1)\n",
      "Requirement already satisfied, skipping upgrade: azure-nspkg>=3.0.0 in /data/anaconda/envs/py36/lib/python3.6/site-packages (from azure-mgmt-nspkg>=2.0.0->azure-mgmt-keyvault>=0.40.0->azureml-core==1.0.57.*->azureml-sdk[automl]) (3.0.2)\n",
      "Requirement already satisfied, skipping upgrade: pycparser in /data/anaconda/envs/py36/lib/python3.6/site-packages (from cffi!=1.11.3,>=1.8->cryptography!=1.9,!=2.0.*,!=2.1.*,!=2.2.*->azureml-core==1.0.57.*->azureml-sdk[automl]) (2.19)\n",
      "Requirement already satisfied, skipping upgrade: Cython>=0.29 in /data/anaconda/envs/py36/lib/python3.6/site-packages (from pmdarima==1.1.1->azureml-automl-core==1.0.57.*->azureml-train-automl==1.0.57.*; extra == \"automl\"->azureml-sdk[automl]) (0.29.7)\n",
      "Requirement already satisfied, skipping upgrade: jsonschema in /data/anaconda/envs/py36/lib/python3.6/site-packages (from JsonForm>=0.0.2->resource>=0.1.8->azureml-train-automl==1.0.57.*; extra == \"automl\"->azureml-sdk[automl]) (3.0.1)\n"
     ]
    },
    {
     "name": "stdout",
     "output_type": "stream",
     "text": [
      "Requirement already satisfied, skipping upgrade: PyYAML in /data/anaconda/envs/py36/lib/python3.6/site-packages (from python-easyconfig>=0.1.0->resource>=0.1.8->azureml-train-automl==1.0.57.*; extra == \"automl\"->azureml-sdk[automl]) (5.1)\n",
      "Requirement already satisfied, skipping upgrade: setuptools in /data/anaconda/envs/py36/lib/python3.6/site-packages (from protobuf->skl2onnx==1.4.9->azureml-train-automl==1.0.57.*; extra == \"automl\"->azureml-sdk[automl]) (41.0.1)\n",
      "Requirement already satisfied, skipping upgrade: boto3 in /data/anaconda/envs/py36/lib/python3.6/site-packages (from smart-open>=1.7.0->gensim->azureml-train-automl==1.0.57.*; extra == \"automl\"->azureml-sdk[automl]) (1.9.139)\n",
      "Requirement already satisfied, skipping upgrade: boto>=2.32 in /data/anaconda/envs/py36/lib/python3.6/site-packages (from smart-open>=1.7.0->gensim->azureml-train-automl==1.0.57.*; extra == \"automl\"->azureml-sdk[automl]) (2.49.0)\n",
      "Requirement already satisfied, skipping upgrade: keras in /data/anaconda/envs/py36/lib/python3.6/site-packages (from keras2onnx->onnxmltools==1.4.1->azureml-train-automl==1.0.57.*; extra == \"automl\"->azureml-sdk[automl]) (2.1.5)\n",
      "Requirement already satisfied, skipping upgrade: attrs>=17.4.0 in /data/anaconda/envs/py36/lib/python3.6/site-packages (from jsonschema->JsonForm>=0.0.2->resource>=0.1.8->azureml-train-automl==1.0.57.*; extra == \"automl\"->azureml-sdk[automl]) (19.1.0)\n",
      "Requirement already satisfied, skipping upgrade: pyrsistent>=0.14.0 in /data/anaconda/envs/py36/lib/python3.6/site-packages (from jsonschema->JsonForm>=0.0.2->resource>=0.1.8->azureml-train-automl==1.0.57.*; extra == \"automl\"->azureml-sdk[automl]) (0.14.11)\n",
      "Requirement already satisfied, skipping upgrade: botocore<1.13.0,>=1.12.139 in /data/anaconda/envs/py36/lib/python3.6/site-packages (from boto3->smart-open>=1.7.0->gensim->azureml-train-automl==1.0.57.*; extra == \"automl\"->azureml-sdk[automl]) (1.12.139)\n",
      "Requirement already satisfied, skipping upgrade: s3transfer<0.3.0,>=0.2.0 in /data/anaconda/envs/py36/lib/python3.6/site-packages (from boto3->smart-open>=1.7.0->gensim->azureml-train-automl==1.0.57.*; extra == \"automl\"->azureml-sdk[automl]) (0.2.0)\n",
      "Requirement already satisfied, skipping upgrade: docutils>=0.10 in /data/anaconda/envs/py36/lib/python3.6/site-packages (from botocore<1.13.0,>=1.12.139->boto3->smart-open>=1.7.0->gensim->azureml-train-automl==1.0.57.*; extra == \"automl\"->azureml-sdk[automl]) (0.14)\n",
      "Requirement already up-to-date: azureml-dataprep[pandas] in /data/anaconda/envs/py36/lib/python3.6/site-packages (1.1.12)\n",
      "Requirement already satisfied, skipping upgrade: dotnetcore2==2.1.8 in /data/anaconda/envs/py36/lib/python3.6/site-packages (from azureml-dataprep[pandas]) (2.1.8)\n",
      "Requirement already satisfied, skipping upgrade: azureml-dataprep-native<14.0.0,>=13.0.2 in /data/anaconda/envs/py36/lib/python3.6/site-packages (from azureml-dataprep[pandas]) (13.0.2)\n",
      "Requirement already satisfied, skipping upgrade: cloudpickle>=1.1.0 in /data/anaconda/envs/py36/lib/python3.6/site-packages (from azureml-dataprep[pandas]) (1.2.1)\n",
      "Requirement already satisfied, skipping upgrade: pandas>=0.19.2; extra == \"pandas\" in /data/anaconda/envs/py36/lib/python3.6/site-packages (from azureml-dataprep[pandas]) (0.23.4)\n",
      "Requirement already satisfied, skipping upgrade: pyarrow==0.11.*; extra == \"pandas\" in /data/anaconda/envs/py36/lib/python3.6/site-packages (from azureml-dataprep[pandas]) (0.11.1)\n",
      "Requirement already satisfied, skipping upgrade: numpy>=1.11.3; extra == \"pandas\" in /data/anaconda/envs/py36/lib/python3.6/site-packages (from azureml-dataprep[pandas]) (1.16.2)\n",
      "Requirement already satisfied, skipping upgrade: distro>=1.2.0 in /data/anaconda/envs/py36/lib/python3.6/site-packages (from dotnetcore2==2.1.8->azureml-dataprep[pandas]) (1.4.0)\n",
      "Requirement already satisfied, skipping upgrade: pytz>=2011k in /data/anaconda/envs/py36/lib/python3.6/site-packages (from pandas>=0.19.2; extra == \"pandas\"->azureml-dataprep[pandas]) (2019.1)\n",
      "Requirement already satisfied, skipping upgrade: python-dateutil>=2.5.0 in /data/anaconda/envs/py36/lib/python3.6/site-packages (from pandas>=0.19.2; extra == \"pandas\"->azureml-dataprep[pandas]) (2.8.0)\n",
      "Requirement already satisfied, skipping upgrade: six>=1.0.0 in /data/anaconda/envs/py36/lib/python3.6/site-packages (from pyarrow==0.11.*; extra == \"pandas\"->azureml-dataprep[pandas]) (1.12.0)\n",
      "Collecting pyarrow\n",
      "\u001b[?25l  Downloading https://files.pythonhosted.org/packages/6f/df/33d8d6b682750d16baa9f45db825f33e0e0feb479fac1da9758f7ac8fd4b/pyarrow-0.14.1-cp36-cp36m-manylinux2010_x86_64.whl (58.1MB)\n",
      "\u001b[K     |████████████████████████████████| 58.1MB 46.5MB/s eta 0:00:01\n",
      "\u001b[?25hRequirement already satisfied, skipping upgrade: numpy>=1.14 in /data/anaconda/envs/py36/lib/python3.6/site-packages (from pyarrow) (1.16.2)\n",
      "Requirement already satisfied, skipping upgrade: six>=1.0.0 in /data/anaconda/envs/py36/lib/python3.6/site-packages (from pyarrow) (1.12.0)\n",
      "Installing collected packages: pyarrow\n",
      "  Found existing installation: pyarrow 0.11.1\n",
      "    Uninstalling pyarrow-0.11.1:\n",
      "      Successfully uninstalled pyarrow-0.11.1\n",
      "Successfully installed pyarrow-0.14.1\n"
     ]
    }
   ],
   "source": [
    "import sys\n",
    "!{sys.executable} -m pip install azureml-sdk[automl] -U\n",
    "!{sys.executable} -m pip install azureml-dataprep[pandas] -U\n",
    "\n",
    "!{sys.executable} -m pip install pyarrow -U"
   ]
  },
  {
   "cell_type": "code",
   "execution_count": 27,
   "metadata": {},
   "outputs": [
    {
     "name": "stdout",
     "output_type": "stream",
     "text": [
      "Available kernels:\r\n",
      "  ir                 /usr/local/share/jupyter/kernels/ir\r\n",
      "  julia-0.6          /usr/local/share/jupyter/kernels/julia-0.6\r\n",
      "  pyspark3kernel     /usr/local/share/jupyter/kernels/pyspark3kernel\r\n",
      "  pysparkkernel      /usr/local/share/jupyter/kernels/pysparkkernel\r\n",
      "  python2            /usr/local/share/jupyter/kernels/python2\r\n",
      "  python3            /usr/local/share/jupyter/kernels/python3\r\n",
      "  python3-azureml    /usr/local/share/jupyter/kernels/python3-azureml\r\n",
      "  python3-mls        /usr/local/share/jupyter/kernels/python3-mls\r\n",
      "  spark-3-python     /usr/local/share/jupyter/kernels/spark-3-python\r\n",
      "  spark-python       /usr/local/share/jupyter/kernels/spark-python\r\n",
      "  sparkkernel        /usr/local/share/jupyter/kernels/sparkkernel\r\n",
      "  sparkrkernel       /usr/local/share/jupyter/kernels/sparkrkernel\r\n"
     ]
    }
   ],
   "source": [
    "!jupyter kernelspec list"
   ]
  },
  {
   "cell_type": "code",
   "execution_count": 12,
   "metadata": {},
   "outputs": [
    {
     "name": "stdout",
     "output_type": "stream",
     "text": [
      "Found existing compute target.\n",
      "Checking cluster status...\n",
      "Succeeded\n",
      "AmlCompute wait for completion finished\n",
      "Minimum number of nodes requested have been provisioned\n"
     ]
    },
    {
     "ename": "TypeError",
     "evalue": "refresh_state() takes 1 positional argument but 2 were given",
     "output_type": "error",
     "traceback": [
      "\u001b[0;31m---------------------------------------------------------------------------\u001b[0m",
      "\u001b[0;31mTypeError\u001b[0m                                 Traceback (most recent call last)",
      "\u001b[0;32m<ipython-input-12-c8761be26ed9>\u001b[0m in \u001b[0;36m<module>\u001b[0;34m\u001b[0m\n\u001b[1;32m     29\u001b[0m \u001b[0mcompute_target\u001b[0m\u001b[0;34m.\u001b[0m\u001b[0mwait_for_completion\u001b[0m\u001b[0;34m(\u001b[0m\u001b[0mshow_output\u001b[0m \u001b[0;34m=\u001b[0m \u001b[0;32mTrue\u001b[0m\u001b[0;34m,\u001b[0m \u001b[0mmin_node_count\u001b[0m \u001b[0;34m=\u001b[0m \u001b[0;32mNone\u001b[0m\u001b[0;34m,\u001b[0m \u001b[0mtimeout_in_minutes\u001b[0m \u001b[0;34m=\u001b[0m \u001b[0;36m20\u001b[0m\u001b[0;34m)\u001b[0m\u001b[0;34m\u001b[0m\u001b[0;34m\u001b[0m\u001b[0m\n\u001b[1;32m     30\u001b[0m \u001b[0;34m\u001b[0m\u001b[0m\n\u001b[0;32m---> 31\u001b[0;31m \u001b[0mcompute_target\u001b[0m\u001b[0;34m.\u001b[0m\u001b[0mrefresh_state\u001b[0m\u001b[0;34m(\u001b[0m\u001b[0;34m{\u001b[0m \u001b[0;34m\"min_nodes\"\u001b[0m\u001b[0;34m:\u001b[0m \u001b[0;36m1\u001b[0m\u001b[0;34m}\u001b[0m \u001b[0;34m)\u001b[0m\u001b[0;34m\u001b[0m\u001b[0;34m\u001b[0m\u001b[0m\n\u001b[0m\u001b[1;32m     32\u001b[0m \u001b[0;34m\u001b[0m\u001b[0m\n\u001b[1;32m     33\u001b[0m \u001b[0;31m# For a more detailed view of current AmlCompute status, use get_status().\u001b[0m\u001b[0;34m\u001b[0m\u001b[0;34m\u001b[0m\u001b[0;34m\u001b[0m\u001b[0m\n",
      "\u001b[0;31mTypeError\u001b[0m: refresh_state() takes 1 positional argument but 2 were given"
     ]
    }
   ],
   "source": [
    "from azureml.core.compute import AmlCompute\n",
    "from azureml.core.compute import ComputeTarget\n",
    "\n",
    "# Choose a name for your cluster.\n",
    "amlcompute_cluster_name = \"cpucluster\"\n",
    "\n",
    "found = False\n",
    "# Check if this compute target already exists in the workspace.\n",
    "cts = ws.compute_targets\n",
    "if amlcompute_cluster_name in cts and cts[amlcompute_cluster_name].type == 'AmlCompute':\n",
    "    found = True\n",
    "    print('Found existing compute target.')\n",
    "    compute_target = cts[amlcompute_cluster_name]\n",
    "\n",
    "if not found:\n",
    "    print('Creating a new compute target...')\n",
    "    provisioning_config = AmlCompute.provisioning_configuration(vm_size = \"STANDARD_D2_V2\", \n",
    "                                                                vm_priority = 'lowpriority',\n",
    "                                                                min_nodes = 1,\n",
    "                                                                max_nodes = 100)\n",
    "\n",
    "    # Create the cluster.\\n\",\n",
    "    compute_target = ComputeTarget.create(ws, amlcompute_cluster_name, provisioning_config)\n",
    "\n",
    "\n",
    "print('Checking cluster status...')\n",
    "# Can poll for a minimum number of nodes and for a specific timeout.\n",
    "# If no min_node_count is provided, it will use the scale settings for the cluster.\n",
    "compute_target.wait_for_completion(show_output = True, min_node_count = None, timeout_in_minutes = 20)\n",
    "# For a more detailed view of current AmlCompute status, use get_status()."
   ]
  },
  {
   "cell_type": "code",
   "execution_count": 15,
   "metadata": {},
   "outputs": [],
   "source": [
    "# state = compute_target.get_status()"
   ]
  },
  {
   "cell_type": "code",
   "execution_count": 37,
   "metadata": {},
   "outputs": [
    {
     "name": "stdout",
     "output_type": "stream",
     "text": [
      "UpdatingWaiting for cluster to scale. 1 out of 20 nodes ready.\n",
      "\n",
      "SucceededWaiting for cluster to scale. 1 out of 20 nodes ready.\n",
      ".Waiting for cluster to scale. 1 out of 20 nodes ready.\n",
      ".Waiting for cluster to scale. 1 out of 20 nodes ready.\n",
      ".Waiting for cluster to scale. 1 out of 20 nodes ready.\n",
      ".Waiting for cluster to scale. 1 out of 20 nodes ready.\n",
      ".Waiting for cluster to scale. 1 out of 20 nodes ready.\n",
      ".Waiting for cluster to scale. 1 out of 20 nodes ready.\n",
      ".Waiting for cluster to scale. 1 out of 20 nodes ready.\n",
      ".Waiting for cluster to scale. 1 out of 20 nodes ready.\n",
      ".Waiting for cluster to scale. 1 out of 20 nodes ready.\n",
      ".Waiting for cluster to scale. 1 out of 20 nodes ready.\n",
      ".Waiting for cluster to scale. 1 out of 20 nodes ready.\n",
      ".Waiting for cluster to scale. 1 out of 20 nodes ready.\n",
      ".Waiting for cluster to scale. 1 out of 20 nodes ready.\n",
      ".Waiting for cluster to scale. 1 out of 20 nodes ready.\n",
      ".Waiting for cluster to scale. 1 out of 20 nodes ready.\n",
      ".Waiting for cluster to scale. 1 out of 20 nodes ready.\n",
      ".Waiting for cluster to scale. 1 out of 20 nodes ready.\n",
      ".\n",
      "AmlCompute wait for completion finished\n",
      "Minimum number of nodes requested have been provisioned\n"
     ]
    }
   ],
   "source": [
    "new_min = 20\n",
    "compute_target.update(min_nodes=new_min)\n",
    "compute_target.refresh_state()\n",
    "compute_target.wait_for_completion(show_output = True, min_node_count = new_min, timeout_in_minutes = 20)"
   ]
  },
  {
   "cell_type": "code",
   "execution_count": 38,
   "metadata": {},
   "outputs": [
    {
     "name": "stdout",
     "output_type": "stream",
     "text": [
      "Updating\n",
      "AmlCompute wait for completion finished\n",
      "Minimum number of nodes requested have been provisioned\n"
     ]
    }
   ],
   "source": [
    "new_min = 0\n",
    "compute_target.update(min_nodes=new_min)\n",
    "compute_target.refresh_state()\n",
    "compute_target.wait_for_completion(show_output = True, min_node_count = new_min, timeout_in_minutes = 20)"
   ]
  },
  {
   "cell_type": "code",
   "execution_count": null,
   "metadata": {},
   "outputs": [],
   "source": []
  }
 ],
 "metadata": {
  "kernelspec": {
   "display_name": "Python 3.6 - AzureML",
   "language": "python",
   "name": "python3-azureml"
  },
  "language_info": {
   "codemirror_mode": {
    "name": "ipython",
    "version": 3
   },
   "file_extension": ".py",
   "mimetype": "text/x-python",
   "name": "python",
   "nbconvert_exporter": "python",
   "pygments_lexer": "ipython3",
   "version": "3.6.8"
  }
 },
 "nbformat": 4,
 "nbformat_minor": 2
}
